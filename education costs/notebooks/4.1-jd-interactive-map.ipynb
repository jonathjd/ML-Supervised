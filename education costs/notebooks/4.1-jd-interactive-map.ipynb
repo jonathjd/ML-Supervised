{
 "cells": [
  {
   "cell_type": "markdown",
   "metadata": {},
   "source": [
    "# Interactive Map Visualization"
   ]
  },
  {
   "cell_type": "markdown",
   "metadata": {},
   "source": [
    "This notebook will focus on using **Plotly** and **Cufflinks** to create an interactive map visualizing the cost of attendance for each of the available insutitions"
   ]
  },
  {
   "cell_type": "code",
   "execution_count": 1,
   "metadata": {
    "scrolled": true
   },
   "outputs": [
    {
     "name": "stdout",
     "output_type": "stream",
     "text": [
      "Requirement already satisfied: plotly in /Users/jonathjd/opt/anaconda3/envs/jon_projects/lib/python3.8/site-packages (5.6.0)\n",
      "Requirement already satisfied: tenacity>=6.2.0 in /Users/jonathjd/opt/anaconda3/envs/jon_projects/lib/python3.8/site-packages (from plotly) (8.0.1)\n",
      "Requirement already satisfied: six in /Users/jonathjd/opt/anaconda3/envs/jon_projects/lib/python3.8/site-packages (from plotly) (1.16.0)\n",
      "Requirement already satisfied: plotly-geo in /Users/jonathjd/opt/anaconda3/envs/jon_projects/lib/python3.8/site-packages (1.0.0)\n",
      "Requirement already satisfied: geopandas in /Users/jonathjd/opt/anaconda3/envs/jon_projects/lib/python3.8/site-packages (0.10.2)\n",
      "Requirement already satisfied: pyproj>=2.2.0 in /Users/jonathjd/opt/anaconda3/envs/jon_projects/lib/python3.8/site-packages (from geopandas) (3.3.0)\n",
      "Requirement already satisfied: pandas>=0.25.0 in /Users/jonathjd/opt/anaconda3/envs/jon_projects/lib/python3.8/site-packages (from geopandas) (1.4.1)\n",
      "Requirement already satisfied: fiona>=1.8 in /Users/jonathjd/opt/anaconda3/envs/jon_projects/lib/python3.8/site-packages (from geopandas) (1.8.21)\n",
      "Requirement already satisfied: shapely>=1.6 in /Users/jonathjd/opt/anaconda3/envs/jon_projects/lib/python3.8/site-packages (from geopandas) (1.8.1.post1)\n",
      "Requirement already satisfied: attrs>=17 in /Users/jonathjd/opt/anaconda3/envs/jon_projects/lib/python3.8/site-packages (from fiona>=1.8->geopandas) (21.4.0)\n",
      "Requirement already satisfied: certifi in /Users/jonathjd/opt/anaconda3/envs/jon_projects/lib/python3.8/site-packages (from fiona>=1.8->geopandas) (2021.10.8)\n",
      "Requirement already satisfied: click>=4.0 in /Users/jonathjd/opt/anaconda3/envs/jon_projects/lib/python3.8/site-packages (from fiona>=1.8->geopandas) (8.0.4)\n",
      "Requirement already satisfied: setuptools in /Users/jonathjd/opt/anaconda3/envs/jon_projects/lib/python3.8/site-packages (from fiona>=1.8->geopandas) (58.0.4)\n",
      "Requirement already satisfied: click-plugins>=1.0 in /Users/jonathjd/opt/anaconda3/envs/jon_projects/lib/python3.8/site-packages (from fiona>=1.8->geopandas) (1.1.1)\n",
      "Requirement already satisfied: munch in /Users/jonathjd/opt/anaconda3/envs/jon_projects/lib/python3.8/site-packages (from fiona>=1.8->geopandas) (2.5.0)\n",
      "Requirement already satisfied: cligj>=0.5 in /Users/jonathjd/opt/anaconda3/envs/jon_projects/lib/python3.8/site-packages (from fiona>=1.8->geopandas) (0.7.2)\n",
      "Requirement already satisfied: six>=1.7 in /Users/jonathjd/opt/anaconda3/envs/jon_projects/lib/python3.8/site-packages (from fiona>=1.8->geopandas) (1.16.0)\n",
      "Requirement already satisfied: pytz>=2020.1 in /Users/jonathjd/opt/anaconda3/envs/jon_projects/lib/python3.8/site-packages (from pandas>=0.25.0->geopandas) (2021.3)\n",
      "Requirement already satisfied: python-dateutil>=2.8.1 in /Users/jonathjd/opt/anaconda3/envs/jon_projects/lib/python3.8/site-packages (from pandas>=0.25.0->geopandas) (2.8.2)\n",
      "Requirement already satisfied: numpy>=1.18.5 in /Users/jonathjd/opt/anaconda3/envs/jon_projects/lib/python3.8/site-packages (from pandas>=0.25.0->geopandas) (1.22.3)\n"
     ]
    }
   ],
   "source": [
    "!pip install plotly\n",
    "!pip install plotly-geo\n",
    "!pip install geopandas --upgrade"
   ]
  },
  {
   "cell_type": "code",
   "execution_count": 2,
   "metadata": {},
   "outputs": [
    {
     "data": {
      "text/html": [
       "        <script type=\"text/javascript\">\n",
       "        window.PlotlyConfig = {MathJaxConfig: 'local'};\n",
       "        if (window.MathJax) {MathJax.Hub.Config({SVG: {font: \"STIX-Web\"}});}\n",
       "        if (typeof require !== 'undefined') {\n",
       "        require.undef(\"plotly\");\n",
       "        requirejs.config({\n",
       "            paths: {\n",
       "                'plotly': ['https://cdn.plot.ly/plotly-2.9.0.min']\n",
       "            }\n",
       "        });\n",
       "        require(['plotly'], function(Plotly) {\n",
       "            window._Plotly = Plotly;\n",
       "        });\n",
       "        }\n",
       "        </script>\n",
       "        "
      ]
     },
     "metadata": {},
     "output_type": "display_data"
    }
   ],
   "source": [
    "# import libaraies\n",
    "import pandas as pd\n",
    "import plotly as py\n",
    "from plotly.offline import download_plotlyjs, init_notebook_mode, plot, iplot\n",
    "import plotly.graph_objects as go\n",
    "init_notebook_mode(connected=True)\n"
   ]
  },
  {
   "cell_type": "code",
   "execution_count": 3,
   "metadata": {},
   "outputs": [],
   "source": [
    "# import data\n",
    "df = pd.read_csv(\"cleaned_cost_data\")"
   ]
  },
  {
   "cell_type": "code",
   "execution_count": 4,
   "metadata": {
    "scrolled": true
   },
   "outputs": [
    {
     "data": {
      "text/html": [
       "<div>\n",
       "<style scoped>\n",
       "    .dataframe tbody tr th:only-of-type {\n",
       "        vertical-align: middle;\n",
       "    }\n",
       "\n",
       "    .dataframe tbody tr th {\n",
       "        vertical-align: top;\n",
       "    }\n",
       "\n",
       "    .dataframe thead th {\n",
       "        text-align: right;\n",
       "    }\n",
       "</style>\n",
       "<table border=\"1\" class=\"dataframe\">\n",
       "  <thead>\n",
       "    <tr style=\"text-align: right;\">\n",
       "      <th></th>\n",
       "      <th>UNITID</th>\n",
       "      <th>INSTNM</th>\n",
       "      <th>STABBR</th>\n",
       "      <th>ZIP</th>\n",
       "      <th>CITY</th>\n",
       "      <th>ICLEVEL</th>\n",
       "      <th>HIGHDEG</th>\n",
       "      <th>COSTT4_A</th>\n",
       "      <th>TUITIONFEE_IN</th>\n",
       "    </tr>\n",
       "  </thead>\n",
       "  <tbody>\n",
       "    <tr>\n",
       "      <th>0</th>\n",
       "      <td>100654</td>\n",
       "      <td>Alabama A &amp; M University</td>\n",
       "      <td>AL</td>\n",
       "      <td>35762</td>\n",
       "      <td>Normal</td>\n",
       "      <td>1</td>\n",
       "      <td>4</td>\n",
       "      <td>23053.0</td>\n",
       "      <td>10024.0</td>\n",
       "    </tr>\n",
       "    <tr>\n",
       "      <th>1</th>\n",
       "      <td>100663</td>\n",
       "      <td>University of Alabama at Birmingham</td>\n",
       "      <td>AL</td>\n",
       "      <td>35294-0110</td>\n",
       "      <td>Birmingham</td>\n",
       "      <td>1</td>\n",
       "      <td>4</td>\n",
       "      <td>24495.0</td>\n",
       "      <td>8568.0</td>\n",
       "    </tr>\n",
       "    <tr>\n",
       "      <th>2</th>\n",
       "      <td>100690</td>\n",
       "      <td>Amridge University</td>\n",
       "      <td>AL</td>\n",
       "      <td>36117-3553</td>\n",
       "      <td>Montgomery</td>\n",
       "      <td>1</td>\n",
       "      <td>4</td>\n",
       "      <td>14800.0</td>\n",
       "      <td>6950.0</td>\n",
       "    </tr>\n",
       "    <tr>\n",
       "      <th>3</th>\n",
       "      <td>100706</td>\n",
       "      <td>University of Alabama in Huntsville</td>\n",
       "      <td>AL</td>\n",
       "      <td>35899</td>\n",
       "      <td>Huntsville</td>\n",
       "      <td>1</td>\n",
       "      <td>4</td>\n",
       "      <td>23917.0</td>\n",
       "      <td>11122.0</td>\n",
       "    </tr>\n",
       "    <tr>\n",
       "      <th>4</th>\n",
       "      <td>100724</td>\n",
       "      <td>Alabama State University</td>\n",
       "      <td>AL</td>\n",
       "      <td>36104-0271</td>\n",
       "      <td>Montgomery</td>\n",
       "      <td>1</td>\n",
       "      <td>4</td>\n",
       "      <td>21866.0</td>\n",
       "      <td>11068.0</td>\n",
       "    </tr>\n",
       "  </tbody>\n",
       "</table>\n",
       "</div>"
      ],
      "text/plain": [
       "   UNITID                               INSTNM STABBR         ZIP        CITY  \\\n",
       "0  100654             Alabama A & M University     AL       35762      Normal   \n",
       "1  100663  University of Alabama at Birmingham     AL  35294-0110  Birmingham   \n",
       "2  100690                   Amridge University     AL  36117-3553  Montgomery   \n",
       "3  100706  University of Alabama in Huntsville     AL       35899  Huntsville   \n",
       "4  100724             Alabama State University     AL  36104-0271  Montgomery   \n",
       "\n",
       "   ICLEVEL  HIGHDEG  COSTT4_A  TUITIONFEE_IN  \n",
       "0        1        4   23053.0        10024.0  \n",
       "1        1        4   24495.0         8568.0  \n",
       "2        1        4   14800.0         6950.0  \n",
       "3        1        4   23917.0        11122.0  \n",
       "4        1        4   21866.0        11068.0  "
      ]
     },
     "execution_count": 4,
     "metadata": {},
     "output_type": "execute_result"
    }
   ],
   "source": [
    "#Check the head of the data\n",
    "df.head()"
   ]
  },
  {
   "cell_type": "code",
   "execution_count": 5,
   "metadata": {
    "scrolled": false
   },
   "outputs": [
    {
     "data": {
      "text/html": [
       "<div>\n",
       "<style scoped>\n",
       "    .dataframe tbody tr th:only-of-type {\n",
       "        vertical-align: middle;\n",
       "    }\n",
       "\n",
       "    .dataframe tbody tr th {\n",
       "        vertical-align: top;\n",
       "    }\n",
       "\n",
       "    .dataframe thead th {\n",
       "        text-align: right;\n",
       "    }\n",
       "</style>\n",
       "<table border=\"1\" class=\"dataframe\">\n",
       "  <thead>\n",
       "    <tr style=\"text-align: right;\">\n",
       "      <th></th>\n",
       "      <th>UNITID</th>\n",
       "      <th>ICLEVEL</th>\n",
       "      <th>HIGHDEG</th>\n",
       "      <th>COSTT4_A</th>\n",
       "      <th>TUITIONFEE_IN</th>\n",
       "    </tr>\n",
       "    <tr>\n",
       "      <th>STABBR</th>\n",
       "      <th></th>\n",
       "      <th></th>\n",
       "      <th></th>\n",
       "      <th></th>\n",
       "      <th></th>\n",
       "    </tr>\n",
       "  </thead>\n",
       "  <tbody>\n",
       "    <tr>\n",
       "      <th>AK</th>\n",
       "      <td>102623.0</td>\n",
       "      <td>1.0</td>\n",
       "      <td>4.0</td>\n",
       "      <td>19930.5</td>\n",
       "      <td>7591.5</td>\n",
       "    </tr>\n",
       "    <tr>\n",
       "      <th>AL</th>\n",
       "      <td>101631.0</td>\n",
       "      <td>1.0</td>\n",
       "      <td>4.0</td>\n",
       "      <td>24620.5</td>\n",
       "      <td>11512.0</td>\n",
       "    </tr>\n",
       "    <tr>\n",
       "      <th>AR</th>\n",
       "      <td>107044.0</td>\n",
       "      <td>1.0</td>\n",
       "      <td>4.0</td>\n",
       "      <td>22579.0</td>\n",
       "      <td>9544.0</td>\n",
       "    </tr>\n",
       "    <tr>\n",
       "      <th>AZ</th>\n",
       "      <td>413791.5</td>\n",
       "      <td>1.0</td>\n",
       "      <td>4.0</td>\n",
       "      <td>26873.5</td>\n",
       "      <td>12338.0</td>\n",
       "    </tr>\n",
       "    <tr>\n",
       "      <th>CA</th>\n",
       "      <td>121292.0</td>\n",
       "      <td>1.0</td>\n",
       "      <td>4.0</td>\n",
       "      <td>34703.0</td>\n",
       "      <td>17612.5</td>\n",
       "    </tr>\n",
       "  </tbody>\n",
       "</table>\n",
       "</div>"
      ],
      "text/plain": [
       "          UNITID  ICLEVEL  HIGHDEG  COSTT4_A  TUITIONFEE_IN\n",
       "STABBR                                                     \n",
       "AK      102623.0      1.0      4.0   19930.5         7591.5\n",
       "AL      101631.0      1.0      4.0   24620.5        11512.0\n",
       "AR      107044.0      1.0      4.0   22579.0         9544.0\n",
       "AZ      413791.5      1.0      4.0   26873.5        12338.0\n",
       "CA      121292.0      1.0      4.0   34703.0        17612.5"
      ]
     },
     "execution_count": 5,
     "metadata": {},
     "output_type": "execute_result"
    }
   ],
   "source": [
    "#groupby state\n",
    "df2 = df.groupby(by='STABBR').median()\n",
    "df2.head()"
   ]
  },
  {
   "cell_type": "code",
   "execution_count": 6,
   "metadata": {
    "scrolled": true
   },
   "outputs": [
    {
     "data": {
      "text/html": [
       "<div>\n",
       "<style scoped>\n",
       "    .dataframe tbody tr th:only-of-type {\n",
       "        vertical-align: middle;\n",
       "    }\n",
       "\n",
       "    .dataframe tbody tr th {\n",
       "        vertical-align: top;\n",
       "    }\n",
       "\n",
       "    .dataframe thead th {\n",
       "        text-align: right;\n",
       "    }\n",
       "</style>\n",
       "<table border=\"1\" class=\"dataframe\">\n",
       "  <thead>\n",
       "    <tr style=\"text-align: right;\">\n",
       "      <th></th>\n",
       "      <th>UNITID</th>\n",
       "      <th>ICLEVEL</th>\n",
       "      <th>HIGHDEG</th>\n",
       "      <th>COSTT4_A</th>\n",
       "      <th>TUITIONFEE_IN</th>\n",
       "    </tr>\n",
       "    <tr>\n",
       "      <th>STABBR</th>\n",
       "      <th></th>\n",
       "      <th></th>\n",
       "      <th></th>\n",
       "      <th></th>\n",
       "      <th></th>\n",
       "    </tr>\n",
       "  </thead>\n",
       "  <tbody>\n",
       "    <tr>\n",
       "      <th>AK</th>\n",
       "      <td>102623.0</td>\n",
       "      <td>1.0</td>\n",
       "      <td>4.0</td>\n",
       "      <td>19930.5</td>\n",
       "      <td>7591.5</td>\n",
       "    </tr>\n",
       "    <tr>\n",
       "      <th>AL</th>\n",
       "      <td>101631.0</td>\n",
       "      <td>1.0</td>\n",
       "      <td>4.0</td>\n",
       "      <td>24620.5</td>\n",
       "      <td>11512.0</td>\n",
       "    </tr>\n",
       "    <tr>\n",
       "      <th>AR</th>\n",
       "      <td>107044.0</td>\n",
       "      <td>1.0</td>\n",
       "      <td>4.0</td>\n",
       "      <td>22579.0</td>\n",
       "      <td>9544.0</td>\n",
       "    </tr>\n",
       "    <tr>\n",
       "      <th>AZ</th>\n",
       "      <td>413791.5</td>\n",
       "      <td>1.0</td>\n",
       "      <td>4.0</td>\n",
       "      <td>26873.5</td>\n",
       "      <td>12338.0</td>\n",
       "    </tr>\n",
       "    <tr>\n",
       "      <th>CA</th>\n",
       "      <td>121292.0</td>\n",
       "      <td>1.0</td>\n",
       "      <td>4.0</td>\n",
       "      <td>34703.0</td>\n",
       "      <td>17612.5</td>\n",
       "    </tr>\n",
       "    <tr>\n",
       "      <th>CO</th>\n",
       "      <td>127565.0</td>\n",
       "      <td>1.0</td>\n",
       "      <td>4.0</td>\n",
       "      <td>23766.0</td>\n",
       "      <td>10436.0</td>\n",
       "    </tr>\n",
       "    <tr>\n",
       "      <th>CT</th>\n",
       "      <td>130110.0</td>\n",
       "      <td>1.0</td>\n",
       "      <td>4.0</td>\n",
       "      <td>33887.0</td>\n",
       "      <td>20898.0</td>\n",
       "    </tr>\n",
       "    <tr>\n",
       "      <th>DC</th>\n",
       "      <td>131496.0</td>\n",
       "      <td>1.0</td>\n",
       "      <td>4.0</td>\n",
       "      <td>38084.0</td>\n",
       "      <td>24630.0</td>\n",
       "    </tr>\n",
       "    <tr>\n",
       "      <th>DE</th>\n",
       "      <td>130966.0</td>\n",
       "      <td>1.0</td>\n",
       "      <td>4.0</td>\n",
       "      <td>24628.5</td>\n",
       "      <td>12880.0</td>\n",
       "    </tr>\n",
       "    <tr>\n",
       "      <th>FL</th>\n",
       "      <td>136991.0</td>\n",
       "      <td>1.0</td>\n",
       "      <td>4.0</td>\n",
       "      <td>23380.5</td>\n",
       "      <td>12892.5</td>\n",
       "    </tr>\n",
       "    <tr>\n",
       "      <th>GA</th>\n",
       "      <td>140252.0</td>\n",
       "      <td>1.0</td>\n",
       "      <td>4.0</td>\n",
       "      <td>27806.0</td>\n",
       "      <td>13515.0</td>\n",
       "    </tr>\n",
       "    <tr>\n",
       "      <th>HI</th>\n",
       "      <td>141741.5</td>\n",
       "      <td>1.0</td>\n",
       "      <td>4.0</td>\n",
       "      <td>20605.5</td>\n",
       "      <td>9546.0</td>\n",
       "    </tr>\n",
       "    <tr>\n",
       "      <th>IA</th>\n",
       "      <td>153621.0</td>\n",
       "      <td>1.0</td>\n",
       "      <td>4.0</td>\n",
       "      <td>44461.0</td>\n",
       "      <td>31812.0</td>\n",
       "    </tr>\n",
       "    <tr>\n",
       "      <th>ID</th>\n",
       "      <td>142328.0</td>\n",
       "      <td>1.0</td>\n",
       "      <td>3.0</td>\n",
       "      <td>21126.0</td>\n",
       "      <td>8304.0</td>\n",
       "    </tr>\n",
       "    <tr>\n",
       "      <th>IL</th>\n",
       "      <td>147013.0</td>\n",
       "      <td>1.0</td>\n",
       "      <td>4.0</td>\n",
       "      <td>39861.0</td>\n",
       "      <td>29400.0</td>\n",
       "    </tr>\n",
       "    <tr>\n",
       "      <th>IN</th>\n",
       "      <td>151383.5</td>\n",
       "      <td>1.0</td>\n",
       "      <td>4.0</td>\n",
       "      <td>37707.5</td>\n",
       "      <td>26554.0</td>\n",
       "    </tr>\n",
       "    <tr>\n",
       "      <th>KS</th>\n",
       "      <td>155399.0</td>\n",
       "      <td>1.0</td>\n",
       "      <td>4.0</td>\n",
       "      <td>36246.0</td>\n",
       "      <td>20450.0</td>\n",
       "    </tr>\n",
       "    <tr>\n",
       "      <th>KY</th>\n",
       "      <td>157100.0</td>\n",
       "      <td>1.0</td>\n",
       "      <td>4.0</td>\n",
       "      <td>32896.0</td>\n",
       "      <td>19500.0</td>\n",
       "    </tr>\n",
       "    <tr>\n",
       "      <th>LA</th>\n",
       "      <td>159993.0</td>\n",
       "      <td>1.0</td>\n",
       "      <td>4.0</td>\n",
       "      <td>23327.0</td>\n",
       "      <td>10382.0</td>\n",
       "    </tr>\n",
       "    <tr>\n",
       "      <th>MA</th>\n",
       "      <td>166452.0</td>\n",
       "      <td>1.0</td>\n",
       "      <td>4.0</td>\n",
       "      <td>53266.0</td>\n",
       "      <td>38650.0</td>\n",
       "    </tr>\n",
       "    <tr>\n",
       "      <th>MD</th>\n",
       "      <td>163338.0</td>\n",
       "      <td>1.0</td>\n",
       "      <td>4.0</td>\n",
       "      <td>28916.0</td>\n",
       "      <td>13515.0</td>\n",
       "    </tr>\n",
       "    <tr>\n",
       "      <th>ME</th>\n",
       "      <td>161253.0</td>\n",
       "      <td>1.0</td>\n",
       "      <td>4.0</td>\n",
       "      <td>30150.0</td>\n",
       "      <td>18940.0</td>\n",
       "    </tr>\n",
       "    <tr>\n",
       "      <th>MI</th>\n",
       "      <td>170620.0</td>\n",
       "      <td>1.0</td>\n",
       "      <td>4.0</td>\n",
       "      <td>29082.0</td>\n",
       "      <td>15960.0</td>\n",
       "    </tr>\n",
       "    <tr>\n",
       "      <th>MN</th>\n",
       "      <td>174358.0</td>\n",
       "      <td>1.0</td>\n",
       "      <td>4.0</td>\n",
       "      <td>31684.0</td>\n",
       "      <td>22800.0</td>\n",
       "    </tr>\n",
       "    <tr>\n",
       "      <th>MO</th>\n",
       "      <td>178415.5</td>\n",
       "      <td>1.0</td>\n",
       "      <td>4.0</td>\n",
       "      <td>26610.0</td>\n",
       "      <td>15144.5</td>\n",
       "    </tr>\n",
       "    <tr>\n",
       "      <th>MS</th>\n",
       "      <td>176044.0</td>\n",
       "      <td>1.0</td>\n",
       "      <td>4.0</td>\n",
       "      <td>23434.0</td>\n",
       "      <td>8910.0</td>\n",
       "    </tr>\n",
       "    <tr>\n",
       "      <th>MT</th>\n",
       "      <td>180489.0</td>\n",
       "      <td>1.0</td>\n",
       "      <td>4.0</td>\n",
       "      <td>19616.0</td>\n",
       "      <td>7325.0</td>\n",
       "    </tr>\n",
       "    <tr>\n",
       "      <th>NC</th>\n",
       "      <td>199120.0</td>\n",
       "      <td>1.0</td>\n",
       "      <td>4.0</td>\n",
       "      <td>31727.0</td>\n",
       "      <td>18500.0</td>\n",
       "    </tr>\n",
       "    <tr>\n",
       "      <th>ND</th>\n",
       "      <td>200253.0</td>\n",
       "      <td>1.0</td>\n",
       "      <td>4.0</td>\n",
       "      <td>18207.0</td>\n",
       "      <td>7707.0</td>\n",
       "    </tr>\n",
       "    <tr>\n",
       "      <th>NE</th>\n",
       "      <td>181376.0</td>\n",
       "      <td>1.0</td>\n",
       "      <td>4.0</td>\n",
       "      <td>29385.0</td>\n",
       "      <td>17534.0</td>\n",
       "    </tr>\n",
       "    <tr>\n",
       "      <th>NH</th>\n",
       "      <td>183053.0</td>\n",
       "      <td>1.0</td>\n",
       "      <td>4.0</td>\n",
       "      <td>40280.5</td>\n",
       "      <td>27568.0</td>\n",
       "    </tr>\n",
       "    <tr>\n",
       "      <th>NJ</th>\n",
       "      <td>186876.0</td>\n",
       "      <td>1.0</td>\n",
       "      <td>4.0</td>\n",
       "      <td>28149.0</td>\n",
       "      <td>14678.0</td>\n",
       "    </tr>\n",
       "    <tr>\n",
       "      <th>NM</th>\n",
       "      <td>188030.0</td>\n",
       "      <td>1.0</td>\n",
       "      <td>4.0</td>\n",
       "      <td>19286.0</td>\n",
       "      <td>7087.0</td>\n",
       "    </tr>\n",
       "    <tr>\n",
       "      <th>NV</th>\n",
       "      <td>182500.0</td>\n",
       "      <td>1.0</td>\n",
       "      <td>3.0</td>\n",
       "      <td>19933.0</td>\n",
       "      <td>8034.0</td>\n",
       "    </tr>\n",
       "    <tr>\n",
       "      <th>NY</th>\n",
       "      <td>194763.0</td>\n",
       "      <td>1.0</td>\n",
       "      <td>4.0</td>\n",
       "      <td>27393.0</td>\n",
       "      <td>16662.0</td>\n",
       "    </tr>\n",
       "    <tr>\n",
       "      <th>OH</th>\n",
       "      <td>203983.0</td>\n",
       "      <td>1.0</td>\n",
       "      <td>4.0</td>\n",
       "      <td>28122.0</td>\n",
       "      <td>15966.0</td>\n",
       "    </tr>\n",
       "    <tr>\n",
       "      <th>OK</th>\n",
       "      <td>207388.0</td>\n",
       "      <td>1.0</td>\n",
       "      <td>4.0</td>\n",
       "      <td>23947.0</td>\n",
       "      <td>9019.0</td>\n",
       "    </tr>\n",
       "    <tr>\n",
       "      <th>OR</th>\n",
       "      <td>209603.0</td>\n",
       "      <td>1.0</td>\n",
       "      <td>4.0</td>\n",
       "      <td>37628.0</td>\n",
       "      <td>23368.0</td>\n",
       "    </tr>\n",
       "    <tr>\n",
       "      <th>PA</th>\n",
       "      <td>213987.0</td>\n",
       "      <td>1.0</td>\n",
       "      <td>4.0</td>\n",
       "      <td>43994.0</td>\n",
       "      <td>31200.0</td>\n",
       "    </tr>\n",
       "    <tr>\n",
       "      <th>RI</th>\n",
       "      <td>217420.0</td>\n",
       "      <td>1.0</td>\n",
       "      <td>4.0</td>\n",
       "      <td>53679.0</td>\n",
       "      <td>36978.0</td>\n",
       "    </tr>\n",
       "    <tr>\n",
       "      <th>SC</th>\n",
       "      <td>218113.0</td>\n",
       "      <td>1.0</td>\n",
       "      <td>4.0</td>\n",
       "      <td>29663.0</td>\n",
       "      <td>16600.0</td>\n",
       "    </tr>\n",
       "    <tr>\n",
       "      <th>SD</th>\n",
       "      <td>219268.0</td>\n",
       "      <td>1.0</td>\n",
       "      <td>4.0</td>\n",
       "      <td>22800.5</td>\n",
       "      <td>10153.0</td>\n",
       "    </tr>\n",
       "    <tr>\n",
       "      <th>TN</th>\n",
       "      <td>220920.0</td>\n",
       "      <td>1.0</td>\n",
       "      <td>4.0</td>\n",
       "      <td>31257.5</td>\n",
       "      <td>19291.0</td>\n",
       "    </tr>\n",
       "    <tr>\n",
       "      <th>TX</th>\n",
       "      <td>228343.0</td>\n",
       "      <td>1.0</td>\n",
       "      <td>4.0</td>\n",
       "      <td>23949.0</td>\n",
       "      <td>12522.0</td>\n",
       "    </tr>\n",
       "    <tr>\n",
       "      <th>UT</th>\n",
       "      <td>230773.0</td>\n",
       "      <td>1.0</td>\n",
       "      <td>3.5</td>\n",
       "      <td>23117.0</td>\n",
       "      <td>13674.0</td>\n",
       "    </tr>\n",
       "    <tr>\n",
       "      <th>VA</th>\n",
       "      <td>233337.5</td>\n",
       "      <td>1.0</td>\n",
       "      <td>4.0</td>\n",
       "      <td>31150.0</td>\n",
       "      <td>17539.0</td>\n",
       "    </tr>\n",
       "    <tr>\n",
       "      <th>VI</th>\n",
       "      <td>243665.0</td>\n",
       "      <td>1.0</td>\n",
       "      <td>4.0</td>\n",
       "      <td>16993.0</td>\n",
       "      <td>5235.0</td>\n",
       "    </tr>\n",
       "    <tr>\n",
       "      <th>VT</th>\n",
       "      <td>230968.0</td>\n",
       "      <td>1.0</td>\n",
       "      <td>4.0</td>\n",
       "      <td>54042.5</td>\n",
       "      <td>33252.5</td>\n",
       "    </tr>\n",
       "    <tr>\n",
       "      <th>WA</th>\n",
       "      <td>236452.0</td>\n",
       "      <td>1.0</td>\n",
       "      <td>3.0</td>\n",
       "      <td>15187.0</td>\n",
       "      <td>5613.0</td>\n",
       "    </tr>\n",
       "    <tr>\n",
       "      <th>WI</th>\n",
       "      <td>239925.0</td>\n",
       "      <td>1.0</td>\n",
       "      <td>4.0</td>\n",
       "      <td>30288.0</td>\n",
       "      <td>20079.0</td>\n",
       "    </tr>\n",
       "    <tr>\n",
       "      <th>WV</th>\n",
       "      <td>237663.0</td>\n",
       "      <td>1.0</td>\n",
       "      <td>4.0</td>\n",
       "      <td>21122.5</td>\n",
       "      <td>8398.5</td>\n",
       "    </tr>\n",
       "    <tr>\n",
       "      <th>WY</th>\n",
       "      <td>240727.0</td>\n",
       "      <td>1.0</td>\n",
       "      <td>4.0</td>\n",
       "      <td>19960.0</td>\n",
       "      <td>5581.0</td>\n",
       "    </tr>\n",
       "  </tbody>\n",
       "</table>\n",
       "</div>"
      ],
      "text/plain": [
       "          UNITID  ICLEVEL  HIGHDEG  COSTT4_A  TUITIONFEE_IN\n",
       "STABBR                                                     \n",
       "AK      102623.0      1.0      4.0   19930.5         7591.5\n",
       "AL      101631.0      1.0      4.0   24620.5        11512.0\n",
       "AR      107044.0      1.0      4.0   22579.0         9544.0\n",
       "AZ      413791.5      1.0      4.0   26873.5        12338.0\n",
       "CA      121292.0      1.0      4.0   34703.0        17612.5\n",
       "CO      127565.0      1.0      4.0   23766.0        10436.0\n",
       "CT      130110.0      1.0      4.0   33887.0        20898.0\n",
       "DC      131496.0      1.0      4.0   38084.0        24630.0\n",
       "DE      130966.0      1.0      4.0   24628.5        12880.0\n",
       "FL      136991.0      1.0      4.0   23380.5        12892.5\n",
       "GA      140252.0      1.0      4.0   27806.0        13515.0\n",
       "HI      141741.5      1.0      4.0   20605.5         9546.0\n",
       "IA      153621.0      1.0      4.0   44461.0        31812.0\n",
       "ID      142328.0      1.0      3.0   21126.0         8304.0\n",
       "IL      147013.0      1.0      4.0   39861.0        29400.0\n",
       "IN      151383.5      1.0      4.0   37707.5        26554.0\n",
       "KS      155399.0      1.0      4.0   36246.0        20450.0\n",
       "KY      157100.0      1.0      4.0   32896.0        19500.0\n",
       "LA      159993.0      1.0      4.0   23327.0        10382.0\n",
       "MA      166452.0      1.0      4.0   53266.0        38650.0\n",
       "MD      163338.0      1.0      4.0   28916.0        13515.0\n",
       "ME      161253.0      1.0      4.0   30150.0        18940.0\n",
       "MI      170620.0      1.0      4.0   29082.0        15960.0\n",
       "MN      174358.0      1.0      4.0   31684.0        22800.0\n",
       "MO      178415.5      1.0      4.0   26610.0        15144.5\n",
       "MS      176044.0      1.0      4.0   23434.0         8910.0\n",
       "MT      180489.0      1.0      4.0   19616.0         7325.0\n",
       "NC      199120.0      1.0      4.0   31727.0        18500.0\n",
       "ND      200253.0      1.0      4.0   18207.0         7707.0\n",
       "NE      181376.0      1.0      4.0   29385.0        17534.0\n",
       "NH      183053.0      1.0      4.0   40280.5        27568.0\n",
       "NJ      186876.0      1.0      4.0   28149.0        14678.0\n",
       "NM      188030.0      1.0      4.0   19286.0         7087.0\n",
       "NV      182500.0      1.0      3.0   19933.0         8034.0\n",
       "NY      194763.0      1.0      4.0   27393.0        16662.0\n",
       "OH      203983.0      1.0      4.0   28122.0        15966.0\n",
       "OK      207388.0      1.0      4.0   23947.0         9019.0\n",
       "OR      209603.0      1.0      4.0   37628.0        23368.0\n",
       "PA      213987.0      1.0      4.0   43994.0        31200.0\n",
       "RI      217420.0      1.0      4.0   53679.0        36978.0\n",
       "SC      218113.0      1.0      4.0   29663.0        16600.0\n",
       "SD      219268.0      1.0      4.0   22800.5        10153.0\n",
       "TN      220920.0      1.0      4.0   31257.5        19291.0\n",
       "TX      228343.0      1.0      4.0   23949.0        12522.0\n",
       "UT      230773.0      1.0      3.5   23117.0        13674.0\n",
       "VA      233337.5      1.0      4.0   31150.0        17539.0\n",
       "VI      243665.0      1.0      4.0   16993.0         5235.0\n",
       "VT      230968.0      1.0      4.0   54042.5        33252.5\n",
       "WA      236452.0      1.0      3.0   15187.0         5613.0\n",
       "WI      239925.0      1.0      4.0   30288.0        20079.0\n",
       "WV      237663.0      1.0      4.0   21122.5         8398.5\n",
       "WY      240727.0      1.0      4.0   19960.0         5581.0"
      ]
     },
     "execution_count": 6,
     "metadata": {},
     "output_type": "execute_result"
    }
   ],
   "source": [
    "df2"
   ]
  },
  {
   "cell_type": "code",
   "execution_count": 7,
   "metadata": {},
   "outputs": [],
   "source": [
    "# Create dictionary with data\n",
    "# This map will display median state income\n",
    "data = dict(type='choropleth',\n",
    "            locations = df2.index,\n",
    "            locationmode='USA-states',\n",
    "            z=df2['COSTT4_A'],\n",
    "            colorscale=\"Reds\",\n",
    "            colorbar_title=\"USD\"\n",
    "            )"
   ]
  },
  {
   "cell_type": "code",
   "execution_count": 8,
   "metadata": {},
   "outputs": [],
   "source": [
    "# configure layout\n",
    "layout = dict(title=\"Median Cost of Attendance Per Year\",\n",
    "              geo=dict(scope='usa',\n",
    "                      showlakes=True,\n",
    "                      lakecolor=\"rgb(85,173,240)\")\n",
    "             )"
   ]
  },
  {
   "cell_type": "code",
   "execution_count": 9,
   "metadata": {},
   "outputs": [],
   "source": [
    "# Create figure object\n",
    "choromap = go.Figure(data=[data], layout=layout)"
   ]
  },
  {
   "cell_type": "code",
   "execution_count": 10,
   "metadata": {},
   "outputs": [
    {
     "data": {
      "application/vnd.plotly.v1+json": {
       "config": {
        "plotlyServerURL": "https://plot.ly"
       },
       "data": [
        {
         "colorbar": {
          "title": {
           "text": "USD"
          }
         },
         "colorscale": [
          [
           0,
           "rgb(255,245,240)"
          ],
          [
           0.125,
           "rgb(254,224,210)"
          ],
          [
           0.25,
           "rgb(252,187,161)"
          ],
          [
           0.375,
           "rgb(252,146,114)"
          ],
          [
           0.5,
           "rgb(251,106,74)"
          ],
          [
           0.625,
           "rgb(239,59,44)"
          ],
          [
           0.75,
           "rgb(203,24,29)"
          ],
          [
           0.875,
           "rgb(165,15,21)"
          ],
          [
           1,
           "rgb(103,0,13)"
          ]
         ],
         "locationmode": "USA-states",
         "locations": [
          "AK",
          "AL",
          "AR",
          "AZ",
          "CA",
          "CO",
          "CT",
          "DC",
          "DE",
          "FL",
          "GA",
          "HI",
          "IA",
          "ID",
          "IL",
          "IN",
          "KS",
          "KY",
          "LA",
          "MA",
          "MD",
          "ME",
          "MI",
          "MN",
          "MO",
          "MS",
          "MT",
          "NC",
          "ND",
          "NE",
          "NH",
          "NJ",
          "NM",
          "NV",
          "NY",
          "OH",
          "OK",
          "OR",
          "PA",
          "RI",
          "SC",
          "SD",
          "TN",
          "TX",
          "UT",
          "VA",
          "VI",
          "VT",
          "WA",
          "WI",
          "WV",
          "WY"
         ],
         "type": "choropleth",
         "z": [
          19930.5,
          24620.5,
          22579,
          26873.5,
          34703,
          23766,
          33887,
          38084,
          24628.5,
          23380.5,
          27806,
          20605.5,
          44461,
          21126,
          39861,
          37707.5,
          36246,
          32896,
          23327,
          53266,
          28916,
          30150,
          29082,
          31684,
          26610,
          23434,
          19616,
          31727,
          18207,
          29385,
          40280.5,
          28149,
          19286,
          19933,
          27393,
          28122,
          23947,
          37628,
          43994,
          53679,
          29663,
          22800.5,
          31257.5,
          23949,
          23117,
          31150,
          16993,
          54042.5,
          15187,
          30288,
          21122.5,
          19960
         ]
        }
       ],
       "layout": {
        "geo": {
         "lakecolor": "rgb(85,173,240)",
         "scope": "usa",
         "showlakes": true
        },
        "template": {
         "data": {
          "bar": [
           {
            "error_x": {
             "color": "#2a3f5f"
            },
            "error_y": {
             "color": "#2a3f5f"
            },
            "marker": {
             "line": {
              "color": "#E5ECF6",
              "width": 0.5
             },
             "pattern": {
              "fillmode": "overlay",
              "size": 10,
              "solidity": 0.2
             }
            },
            "type": "bar"
           }
          ],
          "barpolar": [
           {
            "marker": {
             "line": {
              "color": "#E5ECF6",
              "width": 0.5
             },
             "pattern": {
              "fillmode": "overlay",
              "size": 10,
              "solidity": 0.2
             }
            },
            "type": "barpolar"
           }
          ],
          "carpet": [
           {
            "aaxis": {
             "endlinecolor": "#2a3f5f",
             "gridcolor": "white",
             "linecolor": "white",
             "minorgridcolor": "white",
             "startlinecolor": "#2a3f5f"
            },
            "baxis": {
             "endlinecolor": "#2a3f5f",
             "gridcolor": "white",
             "linecolor": "white",
             "minorgridcolor": "white",
             "startlinecolor": "#2a3f5f"
            },
            "type": "carpet"
           }
          ],
          "choropleth": [
           {
            "colorbar": {
             "outlinewidth": 0,
             "ticks": ""
            },
            "type": "choropleth"
           }
          ],
          "contour": [
           {
            "colorbar": {
             "outlinewidth": 0,
             "ticks": ""
            },
            "colorscale": [
             [
              0,
              "#0d0887"
             ],
             [
              0.1111111111111111,
              "#46039f"
             ],
             [
              0.2222222222222222,
              "#7201a8"
             ],
             [
              0.3333333333333333,
              "#9c179e"
             ],
             [
              0.4444444444444444,
              "#bd3786"
             ],
             [
              0.5555555555555556,
              "#d8576b"
             ],
             [
              0.6666666666666666,
              "#ed7953"
             ],
             [
              0.7777777777777778,
              "#fb9f3a"
             ],
             [
              0.8888888888888888,
              "#fdca26"
             ],
             [
              1,
              "#f0f921"
             ]
            ],
            "type": "contour"
           }
          ],
          "contourcarpet": [
           {
            "colorbar": {
             "outlinewidth": 0,
             "ticks": ""
            },
            "type": "contourcarpet"
           }
          ],
          "heatmap": [
           {
            "colorbar": {
             "outlinewidth": 0,
             "ticks": ""
            },
            "colorscale": [
             [
              0,
              "#0d0887"
             ],
             [
              0.1111111111111111,
              "#46039f"
             ],
             [
              0.2222222222222222,
              "#7201a8"
             ],
             [
              0.3333333333333333,
              "#9c179e"
             ],
             [
              0.4444444444444444,
              "#bd3786"
             ],
             [
              0.5555555555555556,
              "#d8576b"
             ],
             [
              0.6666666666666666,
              "#ed7953"
             ],
             [
              0.7777777777777778,
              "#fb9f3a"
             ],
             [
              0.8888888888888888,
              "#fdca26"
             ],
             [
              1,
              "#f0f921"
             ]
            ],
            "type": "heatmap"
           }
          ],
          "heatmapgl": [
           {
            "colorbar": {
             "outlinewidth": 0,
             "ticks": ""
            },
            "colorscale": [
             [
              0,
              "#0d0887"
             ],
             [
              0.1111111111111111,
              "#46039f"
             ],
             [
              0.2222222222222222,
              "#7201a8"
             ],
             [
              0.3333333333333333,
              "#9c179e"
             ],
             [
              0.4444444444444444,
              "#bd3786"
             ],
             [
              0.5555555555555556,
              "#d8576b"
             ],
             [
              0.6666666666666666,
              "#ed7953"
             ],
             [
              0.7777777777777778,
              "#fb9f3a"
             ],
             [
              0.8888888888888888,
              "#fdca26"
             ],
             [
              1,
              "#f0f921"
             ]
            ],
            "type": "heatmapgl"
           }
          ],
          "histogram": [
           {
            "marker": {
             "pattern": {
              "fillmode": "overlay",
              "size": 10,
              "solidity": 0.2
             }
            },
            "type": "histogram"
           }
          ],
          "histogram2d": [
           {
            "colorbar": {
             "outlinewidth": 0,
             "ticks": ""
            },
            "colorscale": [
             [
              0,
              "#0d0887"
             ],
             [
              0.1111111111111111,
              "#46039f"
             ],
             [
              0.2222222222222222,
              "#7201a8"
             ],
             [
              0.3333333333333333,
              "#9c179e"
             ],
             [
              0.4444444444444444,
              "#bd3786"
             ],
             [
              0.5555555555555556,
              "#d8576b"
             ],
             [
              0.6666666666666666,
              "#ed7953"
             ],
             [
              0.7777777777777778,
              "#fb9f3a"
             ],
             [
              0.8888888888888888,
              "#fdca26"
             ],
             [
              1,
              "#f0f921"
             ]
            ],
            "type": "histogram2d"
           }
          ],
          "histogram2dcontour": [
           {
            "colorbar": {
             "outlinewidth": 0,
             "ticks": ""
            },
            "colorscale": [
             [
              0,
              "#0d0887"
             ],
             [
              0.1111111111111111,
              "#46039f"
             ],
             [
              0.2222222222222222,
              "#7201a8"
             ],
             [
              0.3333333333333333,
              "#9c179e"
             ],
             [
              0.4444444444444444,
              "#bd3786"
             ],
             [
              0.5555555555555556,
              "#d8576b"
             ],
             [
              0.6666666666666666,
              "#ed7953"
             ],
             [
              0.7777777777777778,
              "#fb9f3a"
             ],
             [
              0.8888888888888888,
              "#fdca26"
             ],
             [
              1,
              "#f0f921"
             ]
            ],
            "type": "histogram2dcontour"
           }
          ],
          "mesh3d": [
           {
            "colorbar": {
             "outlinewidth": 0,
             "ticks": ""
            },
            "type": "mesh3d"
           }
          ],
          "parcoords": [
           {
            "line": {
             "colorbar": {
              "outlinewidth": 0,
              "ticks": ""
             }
            },
            "type": "parcoords"
           }
          ],
          "pie": [
           {
            "automargin": true,
            "type": "pie"
           }
          ],
          "scatter": [
           {
            "marker": {
             "colorbar": {
              "outlinewidth": 0,
              "ticks": ""
             }
            },
            "type": "scatter"
           }
          ],
          "scatter3d": [
           {
            "line": {
             "colorbar": {
              "outlinewidth": 0,
              "ticks": ""
             }
            },
            "marker": {
             "colorbar": {
              "outlinewidth": 0,
              "ticks": ""
             }
            },
            "type": "scatter3d"
           }
          ],
          "scattercarpet": [
           {
            "marker": {
             "colorbar": {
              "outlinewidth": 0,
              "ticks": ""
             }
            },
            "type": "scattercarpet"
           }
          ],
          "scattergeo": [
           {
            "marker": {
             "colorbar": {
              "outlinewidth": 0,
              "ticks": ""
             }
            },
            "type": "scattergeo"
           }
          ],
          "scattergl": [
           {
            "marker": {
             "colorbar": {
              "outlinewidth": 0,
              "ticks": ""
             }
            },
            "type": "scattergl"
           }
          ],
          "scattermapbox": [
           {
            "marker": {
             "colorbar": {
              "outlinewidth": 0,
              "ticks": ""
             }
            },
            "type": "scattermapbox"
           }
          ],
          "scatterpolar": [
           {
            "marker": {
             "colorbar": {
              "outlinewidth": 0,
              "ticks": ""
             }
            },
            "type": "scatterpolar"
           }
          ],
          "scatterpolargl": [
           {
            "marker": {
             "colorbar": {
              "outlinewidth": 0,
              "ticks": ""
             }
            },
            "type": "scatterpolargl"
           }
          ],
          "scatterternary": [
           {
            "marker": {
             "colorbar": {
              "outlinewidth": 0,
              "ticks": ""
             }
            },
            "type": "scatterternary"
           }
          ],
          "surface": [
           {
            "colorbar": {
             "outlinewidth": 0,
             "ticks": ""
            },
            "colorscale": [
             [
              0,
              "#0d0887"
             ],
             [
              0.1111111111111111,
              "#46039f"
             ],
             [
              0.2222222222222222,
              "#7201a8"
             ],
             [
              0.3333333333333333,
              "#9c179e"
             ],
             [
              0.4444444444444444,
              "#bd3786"
             ],
             [
              0.5555555555555556,
              "#d8576b"
             ],
             [
              0.6666666666666666,
              "#ed7953"
             ],
             [
              0.7777777777777778,
              "#fb9f3a"
             ],
             [
              0.8888888888888888,
              "#fdca26"
             ],
             [
              1,
              "#f0f921"
             ]
            ],
            "type": "surface"
           }
          ],
          "table": [
           {
            "cells": {
             "fill": {
              "color": "#EBF0F8"
             },
             "line": {
              "color": "white"
             }
            },
            "header": {
             "fill": {
              "color": "#C8D4E3"
             },
             "line": {
              "color": "white"
             }
            },
            "type": "table"
           }
          ]
         },
         "layout": {
          "annotationdefaults": {
           "arrowcolor": "#2a3f5f",
           "arrowhead": 0,
           "arrowwidth": 1
          },
          "autotypenumbers": "strict",
          "coloraxis": {
           "colorbar": {
            "outlinewidth": 0,
            "ticks": ""
           }
          },
          "colorscale": {
           "diverging": [
            [
             0,
             "#8e0152"
            ],
            [
             0.1,
             "#c51b7d"
            ],
            [
             0.2,
             "#de77ae"
            ],
            [
             0.3,
             "#f1b6da"
            ],
            [
             0.4,
             "#fde0ef"
            ],
            [
             0.5,
             "#f7f7f7"
            ],
            [
             0.6,
             "#e6f5d0"
            ],
            [
             0.7,
             "#b8e186"
            ],
            [
             0.8,
             "#7fbc41"
            ],
            [
             0.9,
             "#4d9221"
            ],
            [
             1,
             "#276419"
            ]
           ],
           "sequential": [
            [
             0,
             "#0d0887"
            ],
            [
             0.1111111111111111,
             "#46039f"
            ],
            [
             0.2222222222222222,
             "#7201a8"
            ],
            [
             0.3333333333333333,
             "#9c179e"
            ],
            [
             0.4444444444444444,
             "#bd3786"
            ],
            [
             0.5555555555555556,
             "#d8576b"
            ],
            [
             0.6666666666666666,
             "#ed7953"
            ],
            [
             0.7777777777777778,
             "#fb9f3a"
            ],
            [
             0.8888888888888888,
             "#fdca26"
            ],
            [
             1,
             "#f0f921"
            ]
           ],
           "sequentialminus": [
            [
             0,
             "#0d0887"
            ],
            [
             0.1111111111111111,
             "#46039f"
            ],
            [
             0.2222222222222222,
             "#7201a8"
            ],
            [
             0.3333333333333333,
             "#9c179e"
            ],
            [
             0.4444444444444444,
             "#bd3786"
            ],
            [
             0.5555555555555556,
             "#d8576b"
            ],
            [
             0.6666666666666666,
             "#ed7953"
            ],
            [
             0.7777777777777778,
             "#fb9f3a"
            ],
            [
             0.8888888888888888,
             "#fdca26"
            ],
            [
             1,
             "#f0f921"
            ]
           ]
          },
          "colorway": [
           "#636efa",
           "#EF553B",
           "#00cc96",
           "#ab63fa",
           "#FFA15A",
           "#19d3f3",
           "#FF6692",
           "#B6E880",
           "#FF97FF",
           "#FECB52"
          ],
          "font": {
           "color": "#2a3f5f"
          },
          "geo": {
           "bgcolor": "white",
           "lakecolor": "white",
           "landcolor": "#E5ECF6",
           "showlakes": true,
           "showland": true,
           "subunitcolor": "white"
          },
          "hoverlabel": {
           "align": "left"
          },
          "hovermode": "closest",
          "mapbox": {
           "style": "light"
          },
          "paper_bgcolor": "white",
          "plot_bgcolor": "#E5ECF6",
          "polar": {
           "angularaxis": {
            "gridcolor": "white",
            "linecolor": "white",
            "ticks": ""
           },
           "bgcolor": "#E5ECF6",
           "radialaxis": {
            "gridcolor": "white",
            "linecolor": "white",
            "ticks": ""
           }
          },
          "scene": {
           "xaxis": {
            "backgroundcolor": "#E5ECF6",
            "gridcolor": "white",
            "gridwidth": 2,
            "linecolor": "white",
            "showbackground": true,
            "ticks": "",
            "zerolinecolor": "white"
           },
           "yaxis": {
            "backgroundcolor": "#E5ECF6",
            "gridcolor": "white",
            "gridwidth": 2,
            "linecolor": "white",
            "showbackground": true,
            "ticks": "",
            "zerolinecolor": "white"
           },
           "zaxis": {
            "backgroundcolor": "#E5ECF6",
            "gridcolor": "white",
            "gridwidth": 2,
            "linecolor": "white",
            "showbackground": true,
            "ticks": "",
            "zerolinecolor": "white"
           }
          },
          "shapedefaults": {
           "line": {
            "color": "#2a3f5f"
           }
          },
          "ternary": {
           "aaxis": {
            "gridcolor": "white",
            "linecolor": "white",
            "ticks": ""
           },
           "baxis": {
            "gridcolor": "white",
            "linecolor": "white",
            "ticks": ""
           },
           "bgcolor": "#E5ECF6",
           "caxis": {
            "gridcolor": "white",
            "linecolor": "white",
            "ticks": ""
           }
          },
          "title": {
           "x": 0.05
          },
          "xaxis": {
           "automargin": true,
           "gridcolor": "white",
           "linecolor": "white",
           "ticks": "",
           "title": {
            "standoff": 15
           },
           "zerolinecolor": "white",
           "zerolinewidth": 2
          },
          "yaxis": {
           "automargin": true,
           "gridcolor": "white",
           "linecolor": "white",
           "ticks": "",
           "title": {
            "standoff": 15
           },
           "zerolinecolor": "white",
           "zerolinewidth": 2
          }
         }
        },
        "title": {
         "text": "Median Cost of Attendance Per Year"
        }
       }
      },
      "text/html": [
       "<div>                            <div id=\"ffbf61df-f607-4038-96f2-0b4a5a4ee0d1\" class=\"plotly-graph-div\" style=\"height:525px; width:100%;\"></div>            <script type=\"text/javascript\">                require([\"plotly\"], function(Plotly) {                    window.PLOTLYENV=window.PLOTLYENV || {};                                    if (document.getElementById(\"ffbf61df-f607-4038-96f2-0b4a5a4ee0d1\")) {                    Plotly.newPlot(                        \"ffbf61df-f607-4038-96f2-0b4a5a4ee0d1\",                        [{\"colorscale\":[[0.0,\"rgb(255,245,240)\"],[0.125,\"rgb(254,224,210)\"],[0.25,\"rgb(252,187,161)\"],[0.375,\"rgb(252,146,114)\"],[0.5,\"rgb(251,106,74)\"],[0.625,\"rgb(239,59,44)\"],[0.75,\"rgb(203,24,29)\"],[0.875,\"rgb(165,15,21)\"],[1.0,\"rgb(103,0,13)\"]],\"locationmode\":\"USA-states\",\"locations\":[\"AK\",\"AL\",\"AR\",\"AZ\",\"CA\",\"CO\",\"CT\",\"DC\",\"DE\",\"FL\",\"GA\",\"HI\",\"IA\",\"ID\",\"IL\",\"IN\",\"KS\",\"KY\",\"LA\",\"MA\",\"MD\",\"ME\",\"MI\",\"MN\",\"MO\",\"MS\",\"MT\",\"NC\",\"ND\",\"NE\",\"NH\",\"NJ\",\"NM\",\"NV\",\"NY\",\"OH\",\"OK\",\"OR\",\"PA\",\"RI\",\"SC\",\"SD\",\"TN\",\"TX\",\"UT\",\"VA\",\"VI\",\"VT\",\"WA\",\"WI\",\"WV\",\"WY\"],\"z\":[19930.5,24620.5,22579.0,26873.5,34703.0,23766.0,33887.0,38084.0,24628.5,23380.5,27806.0,20605.5,44461.0,21126.0,39861.0,37707.5,36246.0,32896.0,23327.0,53266.0,28916.0,30150.0,29082.0,31684.0,26610.0,23434.0,19616.0,31727.0,18207.0,29385.0,40280.5,28149.0,19286.0,19933.0,27393.0,28122.0,23947.0,37628.0,43994.0,53679.0,29663.0,22800.5,31257.5,23949.0,23117.0,31150.0,16993.0,54042.5,15187.0,30288.0,21122.5,19960.0],\"type\":\"choropleth\",\"colorbar\":{\"title\":{\"text\":\"USD\"}}}],                        {\"geo\":{\"lakecolor\":\"rgb(85,173,240)\",\"scope\":\"usa\",\"showlakes\":true},\"title\":{\"text\":\"Median Cost of Attendance Per Year\"},\"template\":{\"data\":{\"bar\":[{\"error_x\":{\"color\":\"#2a3f5f\"},\"error_y\":{\"color\":\"#2a3f5f\"},\"marker\":{\"line\":{\"color\":\"#E5ECF6\",\"width\":0.5},\"pattern\":{\"fillmode\":\"overlay\",\"size\":10,\"solidity\":0.2}},\"type\":\"bar\"}],\"barpolar\":[{\"marker\":{\"line\":{\"color\":\"#E5ECF6\",\"width\":0.5},\"pattern\":{\"fillmode\":\"overlay\",\"size\":10,\"solidity\":0.2}},\"type\":\"barpolar\"}],\"carpet\":[{\"aaxis\":{\"endlinecolor\":\"#2a3f5f\",\"gridcolor\":\"white\",\"linecolor\":\"white\",\"minorgridcolor\":\"white\",\"startlinecolor\":\"#2a3f5f\"},\"baxis\":{\"endlinecolor\":\"#2a3f5f\",\"gridcolor\":\"white\",\"linecolor\":\"white\",\"minorgridcolor\":\"white\",\"startlinecolor\":\"#2a3f5f\"},\"type\":\"carpet\"}],\"choropleth\":[{\"colorbar\":{\"outlinewidth\":0,\"ticks\":\"\"},\"type\":\"choropleth\"}],\"contour\":[{\"colorbar\":{\"outlinewidth\":0,\"ticks\":\"\"},\"colorscale\":[[0.0,\"#0d0887\"],[0.1111111111111111,\"#46039f\"],[0.2222222222222222,\"#7201a8\"],[0.3333333333333333,\"#9c179e\"],[0.4444444444444444,\"#bd3786\"],[0.5555555555555556,\"#d8576b\"],[0.6666666666666666,\"#ed7953\"],[0.7777777777777778,\"#fb9f3a\"],[0.8888888888888888,\"#fdca26\"],[1.0,\"#f0f921\"]],\"type\":\"contour\"}],\"contourcarpet\":[{\"colorbar\":{\"outlinewidth\":0,\"ticks\":\"\"},\"type\":\"contourcarpet\"}],\"heatmap\":[{\"colorbar\":{\"outlinewidth\":0,\"ticks\":\"\"},\"colorscale\":[[0.0,\"#0d0887\"],[0.1111111111111111,\"#46039f\"],[0.2222222222222222,\"#7201a8\"],[0.3333333333333333,\"#9c179e\"],[0.4444444444444444,\"#bd3786\"],[0.5555555555555556,\"#d8576b\"],[0.6666666666666666,\"#ed7953\"],[0.7777777777777778,\"#fb9f3a\"],[0.8888888888888888,\"#fdca26\"],[1.0,\"#f0f921\"]],\"type\":\"heatmap\"}],\"heatmapgl\":[{\"colorbar\":{\"outlinewidth\":0,\"ticks\":\"\"},\"colorscale\":[[0.0,\"#0d0887\"],[0.1111111111111111,\"#46039f\"],[0.2222222222222222,\"#7201a8\"],[0.3333333333333333,\"#9c179e\"],[0.4444444444444444,\"#bd3786\"],[0.5555555555555556,\"#d8576b\"],[0.6666666666666666,\"#ed7953\"],[0.7777777777777778,\"#fb9f3a\"],[0.8888888888888888,\"#fdca26\"],[1.0,\"#f0f921\"]],\"type\":\"heatmapgl\"}],\"histogram\":[{\"marker\":{\"pattern\":{\"fillmode\":\"overlay\",\"size\":10,\"solidity\":0.2}},\"type\":\"histogram\"}],\"histogram2d\":[{\"colorbar\":{\"outlinewidth\":0,\"ticks\":\"\"},\"colorscale\":[[0.0,\"#0d0887\"],[0.1111111111111111,\"#46039f\"],[0.2222222222222222,\"#7201a8\"],[0.3333333333333333,\"#9c179e\"],[0.4444444444444444,\"#bd3786\"],[0.5555555555555556,\"#d8576b\"],[0.6666666666666666,\"#ed7953\"],[0.7777777777777778,\"#fb9f3a\"],[0.8888888888888888,\"#fdca26\"],[1.0,\"#f0f921\"]],\"type\":\"histogram2d\"}],\"histogram2dcontour\":[{\"colorbar\":{\"outlinewidth\":0,\"ticks\":\"\"},\"colorscale\":[[0.0,\"#0d0887\"],[0.1111111111111111,\"#46039f\"],[0.2222222222222222,\"#7201a8\"],[0.3333333333333333,\"#9c179e\"],[0.4444444444444444,\"#bd3786\"],[0.5555555555555556,\"#d8576b\"],[0.6666666666666666,\"#ed7953\"],[0.7777777777777778,\"#fb9f3a\"],[0.8888888888888888,\"#fdca26\"],[1.0,\"#f0f921\"]],\"type\":\"histogram2dcontour\"}],\"mesh3d\":[{\"colorbar\":{\"outlinewidth\":0,\"ticks\":\"\"},\"type\":\"mesh3d\"}],\"parcoords\":[{\"line\":{\"colorbar\":{\"outlinewidth\":0,\"ticks\":\"\"}},\"type\":\"parcoords\"}],\"pie\":[{\"automargin\":true,\"type\":\"pie\"}],\"scatter\":[{\"marker\":{\"colorbar\":{\"outlinewidth\":0,\"ticks\":\"\"}},\"type\":\"scatter\"}],\"scatter3d\":[{\"line\":{\"colorbar\":{\"outlinewidth\":0,\"ticks\":\"\"}},\"marker\":{\"colorbar\":{\"outlinewidth\":0,\"ticks\":\"\"}},\"type\":\"scatter3d\"}],\"scattercarpet\":[{\"marker\":{\"colorbar\":{\"outlinewidth\":0,\"ticks\":\"\"}},\"type\":\"scattercarpet\"}],\"scattergeo\":[{\"marker\":{\"colorbar\":{\"outlinewidth\":0,\"ticks\":\"\"}},\"type\":\"scattergeo\"}],\"scattergl\":[{\"marker\":{\"colorbar\":{\"outlinewidth\":0,\"ticks\":\"\"}},\"type\":\"scattergl\"}],\"scattermapbox\":[{\"marker\":{\"colorbar\":{\"outlinewidth\":0,\"ticks\":\"\"}},\"type\":\"scattermapbox\"}],\"scatterpolar\":[{\"marker\":{\"colorbar\":{\"outlinewidth\":0,\"ticks\":\"\"}},\"type\":\"scatterpolar\"}],\"scatterpolargl\":[{\"marker\":{\"colorbar\":{\"outlinewidth\":0,\"ticks\":\"\"}},\"type\":\"scatterpolargl\"}],\"scatterternary\":[{\"marker\":{\"colorbar\":{\"outlinewidth\":0,\"ticks\":\"\"}},\"type\":\"scatterternary\"}],\"surface\":[{\"colorbar\":{\"outlinewidth\":0,\"ticks\":\"\"},\"colorscale\":[[0.0,\"#0d0887\"],[0.1111111111111111,\"#46039f\"],[0.2222222222222222,\"#7201a8\"],[0.3333333333333333,\"#9c179e\"],[0.4444444444444444,\"#bd3786\"],[0.5555555555555556,\"#d8576b\"],[0.6666666666666666,\"#ed7953\"],[0.7777777777777778,\"#fb9f3a\"],[0.8888888888888888,\"#fdca26\"],[1.0,\"#f0f921\"]],\"type\":\"surface\"}],\"table\":[{\"cells\":{\"fill\":{\"color\":\"#EBF0F8\"},\"line\":{\"color\":\"white\"}},\"header\":{\"fill\":{\"color\":\"#C8D4E3\"},\"line\":{\"color\":\"white\"}},\"type\":\"table\"}]},\"layout\":{\"annotationdefaults\":{\"arrowcolor\":\"#2a3f5f\",\"arrowhead\":0,\"arrowwidth\":1},\"autotypenumbers\":\"strict\",\"coloraxis\":{\"colorbar\":{\"outlinewidth\":0,\"ticks\":\"\"}},\"colorscale\":{\"diverging\":[[0,\"#8e0152\"],[0.1,\"#c51b7d\"],[0.2,\"#de77ae\"],[0.3,\"#f1b6da\"],[0.4,\"#fde0ef\"],[0.5,\"#f7f7f7\"],[0.6,\"#e6f5d0\"],[0.7,\"#b8e186\"],[0.8,\"#7fbc41\"],[0.9,\"#4d9221\"],[1,\"#276419\"]],\"sequential\":[[0.0,\"#0d0887\"],[0.1111111111111111,\"#46039f\"],[0.2222222222222222,\"#7201a8\"],[0.3333333333333333,\"#9c179e\"],[0.4444444444444444,\"#bd3786\"],[0.5555555555555556,\"#d8576b\"],[0.6666666666666666,\"#ed7953\"],[0.7777777777777778,\"#fb9f3a\"],[0.8888888888888888,\"#fdca26\"],[1.0,\"#f0f921\"]],\"sequentialminus\":[[0.0,\"#0d0887\"],[0.1111111111111111,\"#46039f\"],[0.2222222222222222,\"#7201a8\"],[0.3333333333333333,\"#9c179e\"],[0.4444444444444444,\"#bd3786\"],[0.5555555555555556,\"#d8576b\"],[0.6666666666666666,\"#ed7953\"],[0.7777777777777778,\"#fb9f3a\"],[0.8888888888888888,\"#fdca26\"],[1.0,\"#f0f921\"]]},\"colorway\":[\"#636efa\",\"#EF553B\",\"#00cc96\",\"#ab63fa\",\"#FFA15A\",\"#19d3f3\",\"#FF6692\",\"#B6E880\",\"#FF97FF\",\"#FECB52\"],\"font\":{\"color\":\"#2a3f5f\"},\"geo\":{\"bgcolor\":\"white\",\"lakecolor\":\"white\",\"landcolor\":\"#E5ECF6\",\"showlakes\":true,\"showland\":true,\"subunitcolor\":\"white\"},\"hoverlabel\":{\"align\":\"left\"},\"hovermode\":\"closest\",\"mapbox\":{\"style\":\"light\"},\"paper_bgcolor\":\"white\",\"plot_bgcolor\":\"#E5ECF6\",\"polar\":{\"angularaxis\":{\"gridcolor\":\"white\",\"linecolor\":\"white\",\"ticks\":\"\"},\"bgcolor\":\"#E5ECF6\",\"radialaxis\":{\"gridcolor\":\"white\",\"linecolor\":\"white\",\"ticks\":\"\"}},\"scene\":{\"xaxis\":{\"backgroundcolor\":\"#E5ECF6\",\"gridcolor\":\"white\",\"gridwidth\":2,\"linecolor\":\"white\",\"showbackground\":true,\"ticks\":\"\",\"zerolinecolor\":\"white\"},\"yaxis\":{\"backgroundcolor\":\"#E5ECF6\",\"gridcolor\":\"white\",\"gridwidth\":2,\"linecolor\":\"white\",\"showbackground\":true,\"ticks\":\"\",\"zerolinecolor\":\"white\"},\"zaxis\":{\"backgroundcolor\":\"#E5ECF6\",\"gridcolor\":\"white\",\"gridwidth\":2,\"linecolor\":\"white\",\"showbackground\":true,\"ticks\":\"\",\"zerolinecolor\":\"white\"}},\"shapedefaults\":{\"line\":{\"color\":\"#2a3f5f\"}},\"ternary\":{\"aaxis\":{\"gridcolor\":\"white\",\"linecolor\":\"white\",\"ticks\":\"\"},\"baxis\":{\"gridcolor\":\"white\",\"linecolor\":\"white\",\"ticks\":\"\"},\"bgcolor\":\"#E5ECF6\",\"caxis\":{\"gridcolor\":\"white\",\"linecolor\":\"white\",\"ticks\":\"\"}},\"title\":{\"x\":0.05},\"xaxis\":{\"automargin\":true,\"gridcolor\":\"white\",\"linecolor\":\"white\",\"ticks\":\"\",\"title\":{\"standoff\":15},\"zerolinecolor\":\"white\",\"zerolinewidth\":2},\"yaxis\":{\"automargin\":true,\"gridcolor\":\"white\",\"linecolor\":\"white\",\"ticks\":\"\",\"title\":{\"standoff\":15},\"zerolinecolor\":\"white\",\"zerolinewidth\":2}}}},                        {\"responsive\": true}                    ).then(function(){\n",
       "                            \n",
       "var gd = document.getElementById('ffbf61df-f607-4038-96f2-0b4a5a4ee0d1');\n",
       "var x = new MutationObserver(function (mutations, observer) {{\n",
       "        var display = window.getComputedStyle(gd).display;\n",
       "        if (!display || display === 'none') {{\n",
       "            console.log([gd, 'removed!']);\n",
       "            Plotly.purge(gd);\n",
       "            observer.disconnect();\n",
       "        }}\n",
       "}});\n",
       "\n",
       "// Listen for the removal of the full notebook cells\n",
       "var notebookContainer = gd.closest('#notebook-container');\n",
       "if (notebookContainer) {{\n",
       "    x.observe(notebookContainer, {childList: true});\n",
       "}}\n",
       "\n",
       "// Listen for the clearing of the current output cell\n",
       "var outputEl = gd.closest('.output');\n",
       "if (outputEl) {{\n",
       "    x.observe(outputEl, {childList: true});\n",
       "}}\n",
       "\n",
       "                        })                };                });            </script>        </div>"
      ]
     },
     "metadata": {},
     "output_type": "display_data"
    }
   ],
   "source": [
    "choromap.show()"
   ]
  },
  {
   "cell_type": "code",
   "execution_count": 11,
   "metadata": {},
   "outputs": [],
   "source": [
    "df.sort_values(by=\"COSTT4_A\", ascending=False, inplace=True)"
   ]
  },
  {
   "cell_type": "code",
   "execution_count": 12,
   "metadata": {
    "scrolled": true
   },
   "outputs": [
    {
     "name": "stderr",
     "output_type": "stream",
     "text": [
      "/var/folders/dt/8wwvkvj511j90qhhwh6v2k940000gn/T/ipykernel_59290/2812052244.py:2: SettingWithCopyWarning:\n",
      "\n",
      "\n",
      "A value is trying to be set on a copy of a slice from a DataFrame\n",
      "\n",
      "See the caveats in the documentation: https://pandas.pydata.org/pandas-docs/stable/user_guide/indexing.html#returning-a-view-versus-a-copy\n",
      "\n"
     ]
    }
   ],
   "source": [
    "WA = df[df[\"STABBR\"] == \"WA\"]\n",
    "WA.sort_values(by=\"COSTT4_A\", ascending=False, inplace=True)"
   ]
  },
  {
   "cell_type": "code",
   "execution_count": 13,
   "metadata": {},
   "outputs": [
    {
     "data": {
      "text/html": [
       "<div>\n",
       "<style scoped>\n",
       "    .dataframe tbody tr th:only-of-type {\n",
       "        vertical-align: middle;\n",
       "    }\n",
       "\n",
       "    .dataframe tbody tr th {\n",
       "        vertical-align: top;\n",
       "    }\n",
       "\n",
       "    .dataframe thead th {\n",
       "        text-align: right;\n",
       "    }\n",
       "</style>\n",
       "<table border=\"1\" class=\"dataframe\">\n",
       "  <thead>\n",
       "    <tr style=\"text-align: right;\">\n",
       "      <th></th>\n",
       "      <th>UNITID</th>\n",
       "      <th>INSTNM</th>\n",
       "      <th>STABBR</th>\n",
       "      <th>ZIP</th>\n",
       "      <th>CITY</th>\n",
       "      <th>ICLEVEL</th>\n",
       "      <th>HIGHDEG</th>\n",
       "      <th>COSTT4_A</th>\n",
       "      <th>TUITIONFEE_IN</th>\n",
       "    </tr>\n",
       "  </thead>\n",
       "  <tbody>\n",
       "    <tr>\n",
       "      <th>1754</th>\n",
       "      <td>237057</td>\n",
       "      <td>Whitman College</td>\n",
       "      <td>WA</td>\n",
       "      <td>99362</td>\n",
       "      <td>Walla Walla</td>\n",
       "      <td>1</td>\n",
       "      <td>3</td>\n",
       "      <td>68082.0</td>\n",
       "      <td>53820.0</td>\n",
       "    </tr>\n",
       "    <tr>\n",
       "      <th>1736</th>\n",
       "      <td>236328</td>\n",
       "      <td>University of Puget Sound</td>\n",
       "      <td>WA</td>\n",
       "      <td>98416</td>\n",
       "      <td>Tacoma</td>\n",
       "      <td>1</td>\n",
       "      <td>4</td>\n",
       "      <td>65550.0</td>\n",
       "      <td>51740.0</td>\n",
       "    </tr>\n",
       "    <tr>\n",
       "      <th>1742</th>\n",
       "      <td>236595</td>\n",
       "      <td>Seattle University</td>\n",
       "      <td>WA</td>\n",
       "      <td>98122-4340</td>\n",
       "      <td>Seattle</td>\n",
       "      <td>1</td>\n",
       "      <td>4</td>\n",
       "      <td>61104.0</td>\n",
       "      <td>46590.0</td>\n",
       "    </tr>\n",
       "    <tr>\n",
       "      <th>1724</th>\n",
       "      <td>235316</td>\n",
       "      <td>Gonzaga University</td>\n",
       "      <td>WA</td>\n",
       "      <td>99258-0001</td>\n",
       "      <td>Spokane</td>\n",
       "      <td>1</td>\n",
       "      <td>4</td>\n",
       "      <td>59439.0</td>\n",
       "      <td>45140.0</td>\n",
       "    </tr>\n",
       "    <tr>\n",
       "      <th>1755</th>\n",
       "      <td>237066</td>\n",
       "      <td>Whitworth University</td>\n",
       "      <td>WA</td>\n",
       "      <td>99251</td>\n",
       "      <td>Spokane</td>\n",
       "      <td>1</td>\n",
       "      <td>4</td>\n",
       "      <td>58434.0</td>\n",
       "      <td>44940.0</td>\n",
       "    </tr>\n",
       "    <tr>\n",
       "      <th>1741</th>\n",
       "      <td>236577</td>\n",
       "      <td>Seattle Pacific University</td>\n",
       "      <td>WA</td>\n",
       "      <td>98119-1997</td>\n",
       "      <td>Seattle</td>\n",
       "      <td>1</td>\n",
       "      <td>4</td>\n",
       "      <td>58207.0</td>\n",
       "      <td>45078.0</td>\n",
       "    </tr>\n",
       "    <tr>\n",
       "      <th>1719</th>\n",
       "      <td>235024</td>\n",
       "      <td>Cornish College of the Arts</td>\n",
       "      <td>WA</td>\n",
       "      <td>98121</td>\n",
       "      <td>Seattle</td>\n",
       "      <td>1</td>\n",
       "      <td>3</td>\n",
       "      <td>57913.0</td>\n",
       "      <td>33360.0</td>\n",
       "    </tr>\n",
       "    <tr>\n",
       "      <th>1734</th>\n",
       "      <td>236230</td>\n",
       "      <td>Pacific Lutheran University</td>\n",
       "      <td>WA</td>\n",
       "      <td>98447-0003</td>\n",
       "      <td>Tacoma</td>\n",
       "      <td>1</td>\n",
       "      <td>4</td>\n",
       "      <td>55217.0</td>\n",
       "      <td>43674.0</td>\n",
       "    </tr>\n",
       "    <tr>\n",
       "      <th>1738</th>\n",
       "      <td>236452</td>\n",
       "      <td>Saint Martin's University</td>\n",
       "      <td>WA</td>\n",
       "      <td>98503-7500</td>\n",
       "      <td>Lacey</td>\n",
       "      <td>1</td>\n",
       "      <td>4</td>\n",
       "      <td>50510.0</td>\n",
       "      <td>38560.0</td>\n",
       "    </tr>\n",
       "    <tr>\n",
       "      <th>2114</th>\n",
       "      <td>488448</td>\n",
       "      <td>Seattle Film Institute</td>\n",
       "      <td>WA</td>\n",
       "      <td>98119-1707</td>\n",
       "      <td>Seattle</td>\n",
       "      <td>1</td>\n",
       "      <td>4</td>\n",
       "      <td>49076.0</td>\n",
       "      <td>30240.0</td>\n",
       "    </tr>\n",
       "    <tr>\n",
       "      <th>1927</th>\n",
       "      <td>443410</td>\n",
       "      <td>DigiPen Institute of Technology</td>\n",
       "      <td>WA</td>\n",
       "      <td>98052</td>\n",
       "      <td>Redmond</td>\n",
       "      <td>1</td>\n",
       "      <td>4</td>\n",
       "      <td>45725.0</td>\n",
       "      <td>32600.0</td>\n",
       "    </tr>\n",
       "    <tr>\n",
       "      <th>1732</th>\n",
       "      <td>236133</td>\n",
       "      <td>Northwest University</td>\n",
       "      <td>WA</td>\n",
       "      <td>98083-0579</td>\n",
       "      <td>Kirkland</td>\n",
       "      <td>1</td>\n",
       "      <td>4</td>\n",
       "      <td>43017.0</td>\n",
       "      <td>32960.0</td>\n",
       "    </tr>\n",
       "    <tr>\n",
       "      <th>1748</th>\n",
       "      <td>236896</td>\n",
       "      <td>Walla Walla University</td>\n",
       "      <td>WA</td>\n",
       "      <td>99324-1198</td>\n",
       "      <td>College Place</td>\n",
       "      <td>1</td>\n",
       "      <td>4</td>\n",
       "      <td>37626.0</td>\n",
       "      <td>28881.0</td>\n",
       "    </tr>\n",
       "    <tr>\n",
       "      <th>35</th>\n",
       "      <td>102845</td>\n",
       "      <td>Charter College</td>\n",
       "      <td>WA</td>\n",
       "      <td>98683-7575</td>\n",
       "      <td>Vancouver</td>\n",
       "      <td>1</td>\n",
       "      <td>3</td>\n",
       "      <td>35954.0</td>\n",
       "      <td>18161.0</td>\n",
       "    </tr>\n",
       "    <tr>\n",
       "      <th>2109</th>\n",
       "      <td>487603</td>\n",
       "      <td>Northwest University-College of Adult and Prof...</td>\n",
       "      <td>WA</td>\n",
       "      <td>98033</td>\n",
       "      <td>Kirkland</td>\n",
       "      <td>1</td>\n",
       "      <td>4</td>\n",
       "      <td>28624.0</td>\n",
       "      <td>15600.0</td>\n",
       "    </tr>\n",
       "    <tr>\n",
       "      <th>1848</th>\n",
       "      <td>377546</td>\n",
       "      <td>Northwest College of Art &amp; Design</td>\n",
       "      <td>WA</td>\n",
       "      <td>98402</td>\n",
       "      <td>Tacoma</td>\n",
       "      <td>1</td>\n",
       "      <td>3</td>\n",
       "      <td>27974.0</td>\n",
       "      <td>18100.0</td>\n",
       "    </tr>\n",
       "    <tr>\n",
       "      <th>1727</th>\n",
       "      <td>235422</td>\n",
       "      <td>Heritage University</td>\n",
       "      <td>WA</td>\n",
       "      <td>98948</td>\n",
       "      <td>Toppenish</td>\n",
       "      <td>1</td>\n",
       "      <td>4</td>\n",
       "      <td>26807.0</td>\n",
       "      <td>18029.0</td>\n",
       "    </tr>\n",
       "    <tr>\n",
       "      <th>1750</th>\n",
       "      <td>236948</td>\n",
       "      <td>University of Washington-Seattle Campus</td>\n",
       "      <td>WA</td>\n",
       "      <td>98195-4550</td>\n",
       "      <td>Seattle</td>\n",
       "      <td>1</td>\n",
       "      <td>4</td>\n",
       "      <td>26249.0</td>\n",
       "      <td>11465.0</td>\n",
       "    </tr>\n",
       "    <tr>\n",
       "      <th>1749</th>\n",
       "      <td>236939</td>\n",
       "      <td>Washington State University</td>\n",
       "      <td>WA</td>\n",
       "      <td>99164-5910</td>\n",
       "      <td>Pullman</td>\n",
       "      <td>1</td>\n",
       "      <td>4</td>\n",
       "      <td>25762.0</td>\n",
       "      <td>11841.0</td>\n",
       "    </tr>\n",
       "    <tr>\n",
       "      <th>1752</th>\n",
       "      <td>237011</td>\n",
       "      <td>Western Washington University</td>\n",
       "      <td>WA</td>\n",
       "      <td>98225-9008</td>\n",
       "      <td>Bellingham</td>\n",
       "      <td>1</td>\n",
       "      <td>4</td>\n",
       "      <td>23565.0</td>\n",
       "      <td>8343.0</td>\n",
       "    </tr>\n",
       "    <tr>\n",
       "      <th>1722</th>\n",
       "      <td>235167</td>\n",
       "      <td>The Evergreen State College</td>\n",
       "      <td>WA</td>\n",
       "      <td>98505-0001</td>\n",
       "      <td>Olympia</td>\n",
       "      <td>1</td>\n",
       "      <td>4</td>\n",
       "      <td>23235.0</td>\n",
       "      <td>8217.0</td>\n",
       "    </tr>\n",
       "    <tr>\n",
       "      <th>1714</th>\n",
       "      <td>234827</td>\n",
       "      <td>Central Washington University</td>\n",
       "      <td>WA</td>\n",
       "      <td>98926-7501</td>\n",
       "      <td>Ellensburg</td>\n",
       "      <td>1</td>\n",
       "      <td>4</td>\n",
       "      <td>22827.0</td>\n",
       "      <td>8273.0</td>\n",
       "    </tr>\n",
       "    <tr>\n",
       "      <th>1849</th>\n",
       "      <td>377555</td>\n",
       "      <td>University of Washington-Bothell Campus</td>\n",
       "      <td>WA</td>\n",
       "      <td>98011-8246</td>\n",
       "      <td>Bothell</td>\n",
       "      <td>1</td>\n",
       "      <td>4</td>\n",
       "      <td>22415.0</td>\n",
       "      <td>11390.0</td>\n",
       "    </tr>\n",
       "    <tr>\n",
       "      <th>1850</th>\n",
       "      <td>377564</td>\n",
       "      <td>University of Washington-Tacoma Campus</td>\n",
       "      <td>WA</td>\n",
       "      <td>98402-3100</td>\n",
       "      <td>Tacoma</td>\n",
       "      <td>1</td>\n",
       "      <td>4</td>\n",
       "      <td>21053.0</td>\n",
       "      <td>11639.0</td>\n",
       "    </tr>\n",
       "    <tr>\n",
       "      <th>1720</th>\n",
       "      <td>235097</td>\n",
       "      <td>Eastern Washington University</td>\n",
       "      <td>WA</td>\n",
       "      <td>99004-2496</td>\n",
       "      <td>Cheney</td>\n",
       "      <td>1</td>\n",
       "      <td>4</td>\n",
       "      <td>20432.0</td>\n",
       "      <td>7526.0</td>\n",
       "    </tr>\n",
       "    <tr>\n",
       "      <th>1925</th>\n",
       "      <td>443049</td>\n",
       "      <td>Faith International University</td>\n",
       "      <td>WA</td>\n",
       "      <td>98407-0186</td>\n",
       "      <td>Tacoma</td>\n",
       "      <td>1</td>\n",
       "      <td>4</td>\n",
       "      <td>18722.0</td>\n",
       "      <td>8550.0</td>\n",
       "    </tr>\n",
       "    <tr>\n",
       "      <th>1718</th>\n",
       "      <td>234979</td>\n",
       "      <td>Columbia Basin College</td>\n",
       "      <td>WA</td>\n",
       "      <td>99301</td>\n",
       "      <td>Pasco</td>\n",
       "      <td>1</td>\n",
       "      <td>3</td>\n",
       "      <td>16069.0</td>\n",
       "      <td>5613.0</td>\n",
       "    </tr>\n",
       "    <tr>\n",
       "      <th>1739</th>\n",
       "      <td>236504</td>\n",
       "      <td>South Seattle College</td>\n",
       "      <td>WA</td>\n",
       "      <td>98106-1499</td>\n",
       "      <td>Seattle</td>\n",
       "      <td>1</td>\n",
       "      <td>3</td>\n",
       "      <td>15187.0</td>\n",
       "      <td>4717.0</td>\n",
       "    </tr>\n",
       "    <tr>\n",
       "      <th>1909</th>\n",
       "      <td>439190</td>\n",
       "      <td>Cascadia College</td>\n",
       "      <td>WA</td>\n",
       "      <td>98011-8205</td>\n",
       "      <td>Bothell</td>\n",
       "      <td>1</td>\n",
       "      <td>3</td>\n",
       "      <td>15181.0</td>\n",
       "      <td>4055.0</td>\n",
       "    </tr>\n",
       "    <tr>\n",
       "      <th>1756</th>\n",
       "      <td>237109</td>\n",
       "      <td>Yakima Valley College</td>\n",
       "      <td>WA</td>\n",
       "      <td>98907-2520</td>\n",
       "      <td>Yakima</td>\n",
       "      <td>1</td>\n",
       "      <td>3</td>\n",
       "      <td>15146.0</td>\n",
       "      <td>4285.0</td>\n",
       "    </tr>\n",
       "    <tr>\n",
       "      <th>1723</th>\n",
       "      <td>235237</td>\n",
       "      <td>Pierce College District</td>\n",
       "      <td>WA</td>\n",
       "      <td>98498-1999</td>\n",
       "      <td>Lakewood</td>\n",
       "      <td>1</td>\n",
       "      <td>3</td>\n",
       "      <td>14803.0</td>\n",
       "      <td>4041.0</td>\n",
       "    </tr>\n",
       "    <tr>\n",
       "      <th>1753</th>\n",
       "      <td>237039</td>\n",
       "      <td>Whatcom Community College</td>\n",
       "      <td>WA</td>\n",
       "      <td>98226</td>\n",
       "      <td>Bellingham</td>\n",
       "      <td>1</td>\n",
       "      <td>3</td>\n",
       "      <td>14605.0</td>\n",
       "      <td>4650.0</td>\n",
       "    </tr>\n",
       "    <tr>\n",
       "      <th>1712</th>\n",
       "      <td>234669</td>\n",
       "      <td>Bellevue College</td>\n",
       "      <td>WA</td>\n",
       "      <td>98007-6484</td>\n",
       "      <td>Bellevue</td>\n",
       "      <td>1</td>\n",
       "      <td>3</td>\n",
       "      <td>14519.0</td>\n",
       "      <td>3866.0</td>\n",
       "    </tr>\n",
       "    <tr>\n",
       "      <th>1853</th>\n",
       "      <td>380377</td>\n",
       "      <td>Northwest Indian College</td>\n",
       "      <td>WA</td>\n",
       "      <td>98226-9217</td>\n",
       "      <td>Bellingham</td>\n",
       "      <td>1</td>\n",
       "      <td>3</td>\n",
       "      <td>14423.0</td>\n",
       "      <td>4840.0</td>\n",
       "    </tr>\n",
       "    <tr>\n",
       "      <th>1743</th>\n",
       "      <td>236638</td>\n",
       "      <td>Skagit Valley College</td>\n",
       "      <td>WA</td>\n",
       "      <td>98273</td>\n",
       "      <td>Mount Vernon</td>\n",
       "      <td>1</td>\n",
       "      <td>3</td>\n",
       "      <td>14413.0</td>\n",
       "      <td>4000.0</td>\n",
       "    </tr>\n",
       "    <tr>\n",
       "      <th>1721</th>\n",
       "      <td>235103</td>\n",
       "      <td>Edmonds College</td>\n",
       "      <td>WA</td>\n",
       "      <td>98036-5912</td>\n",
       "      <td>Lynnwood</td>\n",
       "      <td>1</td>\n",
       "      <td>3</td>\n",
       "      <td>14406.0</td>\n",
       "      <td>4017.0</td>\n",
       "    </tr>\n",
       "    <tr>\n",
       "      <th>1726</th>\n",
       "      <td>235343</td>\n",
       "      <td>Green River College</td>\n",
       "      <td>WA</td>\n",
       "      <td>98092-3622</td>\n",
       "      <td>Auburn</td>\n",
       "      <td>1</td>\n",
       "      <td>3</td>\n",
       "      <td>14405.0</td>\n",
       "      <td>4141.0</td>\n",
       "    </tr>\n",
       "    <tr>\n",
       "      <th>1715</th>\n",
       "      <td>234845</td>\n",
       "      <td>Centralia College</td>\n",
       "      <td>WA</td>\n",
       "      <td>98531-4099</td>\n",
       "      <td>Centralia</td>\n",
       "      <td>1</td>\n",
       "      <td>3</td>\n",
       "      <td>14343.0</td>\n",
       "      <td>4542.0</td>\n",
       "    </tr>\n",
       "    <tr>\n",
       "      <th>1716</th>\n",
       "      <td>234933</td>\n",
       "      <td>Clark College</td>\n",
       "      <td>WA</td>\n",
       "      <td>98663-3598</td>\n",
       "      <td>Vancouver</td>\n",
       "      <td>1</td>\n",
       "      <td>3</td>\n",
       "      <td>14284.0</td>\n",
       "      <td>3879.0</td>\n",
       "    </tr>\n",
       "    <tr>\n",
       "      <th>1717</th>\n",
       "      <td>234951</td>\n",
       "      <td>Clover Park Technical College</td>\n",
       "      <td>WA</td>\n",
       "      <td>98499-4004</td>\n",
       "      <td>Lakewood</td>\n",
       "      <td>1</td>\n",
       "      <td>3</td>\n",
       "      <td>14190.0</td>\n",
       "      <td>5740.0</td>\n",
       "    </tr>\n",
       "    <tr>\n",
       "      <th>1728</th>\n",
       "      <td>235431</td>\n",
       "      <td>Highline College</td>\n",
       "      <td>WA</td>\n",
       "      <td>98198-9800</td>\n",
       "      <td>Des Moines</td>\n",
       "      <td>1</td>\n",
       "      <td>3</td>\n",
       "      <td>14021.0</td>\n",
       "      <td>4127.0</td>\n",
       "    </tr>\n",
       "    <tr>\n",
       "      <th>1729</th>\n",
       "      <td>235699</td>\n",
       "      <td>Lake Washington Institute of Technology</td>\n",
       "      <td>WA</td>\n",
       "      <td>98034-8506</td>\n",
       "      <td>Kirkland</td>\n",
       "      <td>1</td>\n",
       "      <td>3</td>\n",
       "      <td>13846.0</td>\n",
       "      <td>4418.0</td>\n",
       "    </tr>\n",
       "    <tr>\n",
       "      <th>1737</th>\n",
       "      <td>236382</td>\n",
       "      <td>Renton Technical College</td>\n",
       "      <td>WA</td>\n",
       "      <td>98056-4123</td>\n",
       "      <td>Renton</td>\n",
       "      <td>1</td>\n",
       "      <td>3</td>\n",
       "      <td>13691.0</td>\n",
       "      <td>5567.0</td>\n",
       "    </tr>\n",
       "    <tr>\n",
       "      <th>1751</th>\n",
       "      <td>236975</td>\n",
       "      <td>Wenatchee Valley College</td>\n",
       "      <td>WA</td>\n",
       "      <td>98801-1799</td>\n",
       "      <td>Wenatchee</td>\n",
       "      <td>1</td>\n",
       "      <td>3</td>\n",
       "      <td>13683.0</td>\n",
       "      <td>4188.0</td>\n",
       "    </tr>\n",
       "    <tr>\n",
       "      <th>1733</th>\n",
       "      <td>236188</td>\n",
       "      <td>Olympic College</td>\n",
       "      <td>WA</td>\n",
       "      <td>98337-1699</td>\n",
       "      <td>Bremerton</td>\n",
       "      <td>1</td>\n",
       "      <td>3</td>\n",
       "      <td>13646.0</td>\n",
       "      <td>3880.0</td>\n",
       "    </tr>\n",
       "    <tr>\n",
       "      <th>1735</th>\n",
       "      <td>236258</td>\n",
       "      <td>Peninsula College</td>\n",
       "      <td>WA</td>\n",
       "      <td>98362</td>\n",
       "      <td>Port Angeles</td>\n",
       "      <td>1</td>\n",
       "      <td>3</td>\n",
       "      <td>13102.0</td>\n",
       "      <td>4126.0</td>\n",
       "    </tr>\n",
       "    <tr>\n",
       "      <th>1725</th>\n",
       "      <td>235334</td>\n",
       "      <td>Grays Harbor College</td>\n",
       "      <td>WA</td>\n",
       "      <td>98520-7599</td>\n",
       "      <td>Aberdeen</td>\n",
       "      <td>1</td>\n",
       "      <td>3</td>\n",
       "      <td>13016.0</td>\n",
       "      <td>4204.0</td>\n",
       "    </tr>\n",
       "    <tr>\n",
       "      <th>1731</th>\n",
       "      <td>236072</td>\n",
       "      <td>North Seattle College</td>\n",
       "      <td>WA</td>\n",
       "      <td>98103-3599</td>\n",
       "      <td>Seattle</td>\n",
       "      <td>1</td>\n",
       "      <td>3</td>\n",
       "      <td>12903.0</td>\n",
       "      <td>4625.0</td>\n",
       "    </tr>\n",
       "    <tr>\n",
       "      <th>1746</th>\n",
       "      <td>236753</td>\n",
       "      <td>Tacoma Community College</td>\n",
       "      <td>WA</td>\n",
       "      <td>98466-6100</td>\n",
       "      <td>Tacoma</td>\n",
       "      <td>1</td>\n",
       "      <td>3</td>\n",
       "      <td>12699.0</td>\n",
       "      <td>4419.0</td>\n",
       "    </tr>\n",
       "    <tr>\n",
       "      <th>1747</th>\n",
       "      <td>236887</td>\n",
       "      <td>Walla Walla Community College</td>\n",
       "      <td>WA</td>\n",
       "      <td>99362-9267</td>\n",
       "      <td>Walla Walla</td>\n",
       "      <td>1</td>\n",
       "      <td>2</td>\n",
       "      <td>12579.0</td>\n",
       "      <td>4700.0</td>\n",
       "    </tr>\n",
       "    <tr>\n",
       "      <th>1745</th>\n",
       "      <td>236708</td>\n",
       "      <td>Spokane Falls Community College</td>\n",
       "      <td>WA</td>\n",
       "      <td>99224-5288</td>\n",
       "      <td>Spokane</td>\n",
       "      <td>1</td>\n",
       "      <td>3</td>\n",
       "      <td>12412.0</td>\n",
       "      <td>3634.0</td>\n",
       "    </tr>\n",
       "    <tr>\n",
       "      <th>1730</th>\n",
       "      <td>235750</td>\n",
       "      <td>Lower Columbia College</td>\n",
       "      <td>WA</td>\n",
       "      <td>98632</td>\n",
       "      <td>Longview</td>\n",
       "      <td>1</td>\n",
       "      <td>2</td>\n",
       "      <td>12028.0</td>\n",
       "      <td>3942.0</td>\n",
       "    </tr>\n",
       "    <tr>\n",
       "      <th>1744</th>\n",
       "      <td>236692</td>\n",
       "      <td>Spokane Community College</td>\n",
       "      <td>WA</td>\n",
       "      <td>99217-5399</td>\n",
       "      <td>Spokane</td>\n",
       "      <td>1</td>\n",
       "      <td>2</td>\n",
       "      <td>11936.0</td>\n",
       "      <td>3634.0</td>\n",
       "    </tr>\n",
       "    <tr>\n",
       "      <th>1740</th>\n",
       "      <td>236513</td>\n",
       "      <td>Seattle Central College</td>\n",
       "      <td>WA</td>\n",
       "      <td>98122</td>\n",
       "      <td>Seattle</td>\n",
       "      <td>1</td>\n",
       "      <td>3</td>\n",
       "      <td>11513.0</td>\n",
       "      <td>3779.0</td>\n",
       "    </tr>\n",
       "    <tr>\n",
       "      <th>1713</th>\n",
       "      <td>234696</td>\n",
       "      <td>Bellingham Technical College</td>\n",
       "      <td>WA</td>\n",
       "      <td>98225-1599</td>\n",
       "      <td>Bellingham</td>\n",
       "      <td>1</td>\n",
       "      <td>3</td>\n",
       "      <td>11280.0</td>\n",
       "      <td>3834.0</td>\n",
       "    </tr>\n",
       "  </tbody>\n",
       "</table>\n",
       "</div>"
      ],
      "text/plain": [
       "      UNITID                                             INSTNM STABBR  \\\n",
       "1754  237057                                    Whitman College     WA   \n",
       "1736  236328                          University of Puget Sound     WA   \n",
       "1742  236595                                 Seattle University     WA   \n",
       "1724  235316                                 Gonzaga University     WA   \n",
       "1755  237066                               Whitworth University     WA   \n",
       "1741  236577                         Seattle Pacific University     WA   \n",
       "1719  235024                        Cornish College of the Arts     WA   \n",
       "1734  236230                        Pacific Lutheran University     WA   \n",
       "1738  236452                          Saint Martin's University     WA   \n",
       "2114  488448                             Seattle Film Institute     WA   \n",
       "1927  443410                    DigiPen Institute of Technology     WA   \n",
       "1732  236133                               Northwest University     WA   \n",
       "1748  236896                             Walla Walla University     WA   \n",
       "35    102845                                    Charter College     WA   \n",
       "2109  487603  Northwest University-College of Adult and Prof...     WA   \n",
       "1848  377546                  Northwest College of Art & Design     WA   \n",
       "1727  235422                                Heritage University     WA   \n",
       "1750  236948            University of Washington-Seattle Campus     WA   \n",
       "1749  236939                        Washington State University     WA   \n",
       "1752  237011                      Western Washington University     WA   \n",
       "1722  235167                        The Evergreen State College     WA   \n",
       "1714  234827                      Central Washington University     WA   \n",
       "1849  377555            University of Washington-Bothell Campus     WA   \n",
       "1850  377564             University of Washington-Tacoma Campus     WA   \n",
       "1720  235097                      Eastern Washington University     WA   \n",
       "1925  443049                     Faith International University     WA   \n",
       "1718  234979                             Columbia Basin College     WA   \n",
       "1739  236504                              South Seattle College     WA   \n",
       "1909  439190                                   Cascadia College     WA   \n",
       "1756  237109                              Yakima Valley College     WA   \n",
       "1723  235237                            Pierce College District     WA   \n",
       "1753  237039                          Whatcom Community College     WA   \n",
       "1712  234669                                   Bellevue College     WA   \n",
       "1853  380377                           Northwest Indian College     WA   \n",
       "1743  236638                              Skagit Valley College     WA   \n",
       "1721  235103                                    Edmonds College     WA   \n",
       "1726  235343                                Green River College     WA   \n",
       "1715  234845                                  Centralia College     WA   \n",
       "1716  234933                                      Clark College     WA   \n",
       "1717  234951                      Clover Park Technical College     WA   \n",
       "1728  235431                                   Highline College     WA   \n",
       "1729  235699            Lake Washington Institute of Technology     WA   \n",
       "1737  236382                           Renton Technical College     WA   \n",
       "1751  236975                           Wenatchee Valley College     WA   \n",
       "1733  236188                                    Olympic College     WA   \n",
       "1735  236258                                  Peninsula College     WA   \n",
       "1725  235334                               Grays Harbor College     WA   \n",
       "1731  236072                              North Seattle College     WA   \n",
       "1746  236753                           Tacoma Community College     WA   \n",
       "1747  236887                      Walla Walla Community College     WA   \n",
       "1745  236708                    Spokane Falls Community College     WA   \n",
       "1730  235750                             Lower Columbia College     WA   \n",
       "1744  236692                          Spokane Community College     WA   \n",
       "1740  236513                            Seattle Central College     WA   \n",
       "1713  234696                       Bellingham Technical College     WA   \n",
       "\n",
       "             ZIP           CITY  ICLEVEL  HIGHDEG  COSTT4_A  TUITIONFEE_IN  \n",
       "1754       99362    Walla Walla        1        3   68082.0        53820.0  \n",
       "1736       98416         Tacoma        1        4   65550.0        51740.0  \n",
       "1742  98122-4340        Seattle        1        4   61104.0        46590.0  \n",
       "1724  99258-0001        Spokane        1        4   59439.0        45140.0  \n",
       "1755       99251        Spokane        1        4   58434.0        44940.0  \n",
       "1741  98119-1997        Seattle        1        4   58207.0        45078.0  \n",
       "1719       98121        Seattle        1        3   57913.0        33360.0  \n",
       "1734  98447-0003         Tacoma        1        4   55217.0        43674.0  \n",
       "1738  98503-7500          Lacey        1        4   50510.0        38560.0  \n",
       "2114  98119-1707        Seattle        1        4   49076.0        30240.0  \n",
       "1927       98052        Redmond        1        4   45725.0        32600.0  \n",
       "1732  98083-0579       Kirkland        1        4   43017.0        32960.0  \n",
       "1748  99324-1198  College Place        1        4   37626.0        28881.0  \n",
       "35    98683-7575      Vancouver        1        3   35954.0        18161.0  \n",
       "2109       98033       Kirkland        1        4   28624.0        15600.0  \n",
       "1848       98402         Tacoma        1        3   27974.0        18100.0  \n",
       "1727       98948      Toppenish        1        4   26807.0        18029.0  \n",
       "1750  98195-4550        Seattle        1        4   26249.0        11465.0  \n",
       "1749  99164-5910        Pullman        1        4   25762.0        11841.0  \n",
       "1752  98225-9008     Bellingham        1        4   23565.0         8343.0  \n",
       "1722  98505-0001        Olympia        1        4   23235.0         8217.0  \n",
       "1714  98926-7501     Ellensburg        1        4   22827.0         8273.0  \n",
       "1849  98011-8246        Bothell        1        4   22415.0        11390.0  \n",
       "1850  98402-3100         Tacoma        1        4   21053.0        11639.0  \n",
       "1720  99004-2496         Cheney        1        4   20432.0         7526.0  \n",
       "1925  98407-0186         Tacoma        1        4   18722.0         8550.0  \n",
       "1718       99301          Pasco        1        3   16069.0         5613.0  \n",
       "1739  98106-1499        Seattle        1        3   15187.0         4717.0  \n",
       "1909  98011-8205        Bothell        1        3   15181.0         4055.0  \n",
       "1756  98907-2520         Yakima        1        3   15146.0         4285.0  \n",
       "1723  98498-1999       Lakewood        1        3   14803.0         4041.0  \n",
       "1753       98226     Bellingham        1        3   14605.0         4650.0  \n",
       "1712  98007-6484       Bellevue        1        3   14519.0         3866.0  \n",
       "1853  98226-9217     Bellingham        1        3   14423.0         4840.0  \n",
       "1743       98273   Mount Vernon        1        3   14413.0         4000.0  \n",
       "1721  98036-5912       Lynnwood        1        3   14406.0         4017.0  \n",
       "1726  98092-3622         Auburn        1        3   14405.0         4141.0  \n",
       "1715  98531-4099      Centralia        1        3   14343.0         4542.0  \n",
       "1716  98663-3598      Vancouver        1        3   14284.0         3879.0  \n",
       "1717  98499-4004       Lakewood        1        3   14190.0         5740.0  \n",
       "1728  98198-9800     Des Moines        1        3   14021.0         4127.0  \n",
       "1729  98034-8506       Kirkland        1        3   13846.0         4418.0  \n",
       "1737  98056-4123         Renton        1        3   13691.0         5567.0  \n",
       "1751  98801-1799      Wenatchee        1        3   13683.0         4188.0  \n",
       "1733  98337-1699      Bremerton        1        3   13646.0         3880.0  \n",
       "1735       98362   Port Angeles        1        3   13102.0         4126.0  \n",
       "1725  98520-7599       Aberdeen        1        3   13016.0         4204.0  \n",
       "1731  98103-3599        Seattle        1        3   12903.0         4625.0  \n",
       "1746  98466-6100         Tacoma        1        3   12699.0         4419.0  \n",
       "1747  99362-9267    Walla Walla        1        2   12579.0         4700.0  \n",
       "1745  99224-5288        Spokane        1        3   12412.0         3634.0  \n",
       "1730       98632       Longview        1        2   12028.0         3942.0  \n",
       "1744  99217-5399        Spokane        1        2   11936.0         3634.0  \n",
       "1740       98122        Seattle        1        3   11513.0         3779.0  \n",
       "1713  98225-1599     Bellingham        1        3   11280.0         3834.0  "
      ]
     },
     "execution_count": 13,
     "metadata": {},
     "output_type": "execute_result"
    }
   ],
   "source": [
    "WA"
   ]
  },
  {
   "cell_type": "code",
   "execution_count": 14,
   "metadata": {},
   "outputs": [],
   "source": [
    "df.rename(columns={\"UNITID\": \"ID\", \"INSTNM\": \"Institution\", \"STABBR\": \"State\", \"ZIP\": \"Zip\", \"CITY\": \"City\",\n",
    "                  \"COSTT4_A\": \"Cost of Attendance\", \"TUITIONFEE_IN\": \"In-state Tuition\"}, inplace=True)"
   ]
  },
  {
   "cell_type": "code",
   "execution_count": 15,
   "metadata": {},
   "outputs": [],
   "source": [
    "df1 = df.drop([\"ICLEVEL\", \"HIGHDEG\"], axis=1)"
   ]
  },
  {
   "cell_type": "code",
   "execution_count": 16,
   "metadata": {},
   "outputs": [],
   "source": [
    "df1.to_csv(\"web_app_data.csv\", index=False)"
   ]
  },
  {
   "cell_type": "code",
   "execution_count": null,
   "metadata": {},
   "outputs": [],
   "source": []
  }
 ],
 "metadata": {
  "kernelspec": {
   "display_name": "Python 3.8.12 ('jon_projects')",
   "language": "python",
   "name": "python3812jvsc74a57bd08e6d1a1bcc9131ecdc4b345d1d36bba3c5f87bbb248ff24ffe64162b95c5a244"
  },
  "language_info": {
   "codemirror_mode": {
    "name": "ipython",
    "version": 3
   },
   "file_extension": ".py",
   "mimetype": "text/x-python",
   "name": "python",
   "nbconvert_exporter": "python",
   "pygments_lexer": "ipython3",
   "version": "3.8.12"
  }
 },
 "nbformat": 4,
 "nbformat_minor": 4
}
