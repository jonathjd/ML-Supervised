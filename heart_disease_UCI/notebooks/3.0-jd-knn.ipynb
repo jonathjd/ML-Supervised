{
 "cells": [
  {
   "cell_type": "markdown",
   "metadata": {},
   "source": [
    "# Let's begin building our models!"
   ]
  },
  {
   "cell_type": "code",
   "execution_count": 2,
   "metadata": {},
   "outputs": [],
   "source": [
    "import pandas as pd\n",
    "import numpy as np\n",
    "import matplotlib.pyplot as plt\n",
    "import seaborn as sns\n",
    "%matplotlib inline"
   ]
  },
  {
   "cell_type": "code",
   "execution_count": 3,
   "metadata": {},
   "outputs": [],
   "source": [
    "df = pd.read_csv('heart_disease_cleaned.csv')"
   ]
  },
  {
   "cell_type": "code",
   "execution_count": 4,
   "metadata": {
    "scrolled": true
   },
   "outputs": [
    {
     "data": {
      "text/html": [
       "<div>\n",
       "<style scoped>\n",
       "    .dataframe tbody tr th:only-of-type {\n",
       "        vertical-align: middle;\n",
       "    }\n",
       "\n",
       "    .dataframe tbody tr th {\n",
       "        vertical-align: top;\n",
       "    }\n",
       "\n",
       "    .dataframe thead th {\n",
       "        text-align: right;\n",
       "    }\n",
       "</style>\n",
       "<table border=\"1\" class=\"dataframe\">\n",
       "  <thead>\n",
       "    <tr style=\"text-align: right;\">\n",
       "      <th></th>\n",
       "      <th>Unnamed: 0</th>\n",
       "      <th>Age</th>\n",
       "      <th>Sex</th>\n",
       "      <th>Chest_Pain</th>\n",
       "      <th>Resting_Blood_Pressure</th>\n",
       "      <th>Colestrol</th>\n",
       "      <th>Fasting_Blood_Sugar</th>\n",
       "      <th>Rest_ECG</th>\n",
       "      <th>MAX_Heart_Rate</th>\n",
       "      <th>Exercised_Induced_Angina</th>\n",
       "      <th>ST_Depression</th>\n",
       "      <th>Slope</th>\n",
       "      <th>Major_Vessels</th>\n",
       "      <th>Thalessemia</th>\n",
       "      <th>Target</th>\n",
       "    </tr>\n",
       "  </thead>\n",
       "  <tbody>\n",
       "    <tr>\n",
       "      <th>0</th>\n",
       "      <td>0</td>\n",
       "      <td>63</td>\n",
       "      <td>1</td>\n",
       "      <td>1</td>\n",
       "      <td>145</td>\n",
       "      <td>233</td>\n",
       "      <td>1</td>\n",
       "      <td>2</td>\n",
       "      <td>150</td>\n",
       "      <td>0</td>\n",
       "      <td>2.3</td>\n",
       "      <td>3</td>\n",
       "      <td>0</td>\n",
       "      <td>6</td>\n",
       "      <td>0</td>\n",
       "    </tr>\n",
       "    <tr>\n",
       "      <th>1</th>\n",
       "      <td>1</td>\n",
       "      <td>67</td>\n",
       "      <td>1</td>\n",
       "      <td>4</td>\n",
       "      <td>160</td>\n",
       "      <td>286</td>\n",
       "      <td>0</td>\n",
       "      <td>2</td>\n",
       "      <td>108</td>\n",
       "      <td>1</td>\n",
       "      <td>1.5</td>\n",
       "      <td>2</td>\n",
       "      <td>3</td>\n",
       "      <td>3</td>\n",
       "      <td>2</td>\n",
       "    </tr>\n",
       "    <tr>\n",
       "      <th>2</th>\n",
       "      <td>2</td>\n",
       "      <td>67</td>\n",
       "      <td>1</td>\n",
       "      <td>4</td>\n",
       "      <td>120</td>\n",
       "      <td>229</td>\n",
       "      <td>0</td>\n",
       "      <td>2</td>\n",
       "      <td>129</td>\n",
       "      <td>1</td>\n",
       "      <td>2.6</td>\n",
       "      <td>2</td>\n",
       "      <td>2</td>\n",
       "      <td>7</td>\n",
       "      <td>1</td>\n",
       "    </tr>\n",
       "    <tr>\n",
       "      <th>3</th>\n",
       "      <td>3</td>\n",
       "      <td>37</td>\n",
       "      <td>1</td>\n",
       "      <td>3</td>\n",
       "      <td>130</td>\n",
       "      <td>250</td>\n",
       "      <td>0</td>\n",
       "      <td>0</td>\n",
       "      <td>187</td>\n",
       "      <td>0</td>\n",
       "      <td>3.5</td>\n",
       "      <td>3</td>\n",
       "      <td>0</td>\n",
       "      <td>3</td>\n",
       "      <td>0</td>\n",
       "    </tr>\n",
       "    <tr>\n",
       "      <th>4</th>\n",
       "      <td>4</td>\n",
       "      <td>41</td>\n",
       "      <td>0</td>\n",
       "      <td>2</td>\n",
       "      <td>130</td>\n",
       "      <td>204</td>\n",
       "      <td>0</td>\n",
       "      <td>2</td>\n",
       "      <td>172</td>\n",
       "      <td>0</td>\n",
       "      <td>1.4</td>\n",
       "      <td>1</td>\n",
       "      <td>0</td>\n",
       "      <td>3</td>\n",
       "      <td>0</td>\n",
       "    </tr>\n",
       "  </tbody>\n",
       "</table>\n",
       "</div>"
      ],
      "text/plain": [
       "   Unnamed: 0  Age  Sex  Chest_Pain  Resting_Blood_Pressure  Colestrol  \\\n",
       "0           0   63    1           1                     145        233   \n",
       "1           1   67    1           4                     160        286   \n",
       "2           2   67    1           4                     120        229   \n",
       "3           3   37    1           3                     130        250   \n",
       "4           4   41    0           2                     130        204   \n",
       "\n",
       "   Fasting_Blood_Sugar  Rest_ECG  MAX_Heart_Rate  Exercised_Induced_Angina  \\\n",
       "0                    1         2             150                         0   \n",
       "1                    0         2             108                         1   \n",
       "2                    0         2             129                         1   \n",
       "3                    0         0             187                         0   \n",
       "4                    0         2             172                         0   \n",
       "\n",
       "   ST_Depression  Slope  Major_Vessels  Thalessemia  Target  \n",
       "0            2.3      3              0            6       0  \n",
       "1            1.5      2              3            3       2  \n",
       "2            2.6      2              2            7       1  \n",
       "3            3.5      3              0            3       0  \n",
       "4            1.4      1              0            3       0  "
      ]
     },
     "execution_count": 4,
     "metadata": {},
     "output_type": "execute_result"
    }
   ],
   "source": [
    "df.head()"
   ]
  },
  {
   "cell_type": "code",
   "execution_count": 5,
   "metadata": {},
   "outputs": [],
   "source": [
    "df.drop(['Unnamed: 0'],axis=1,inplace=True)"
   ]
  },
  {
   "cell_type": "code",
   "execution_count": 6,
   "metadata": {},
   "outputs": [
    {
     "data": {
      "text/html": [
       "<div>\n",
       "<style scoped>\n",
       "    .dataframe tbody tr th:only-of-type {\n",
       "        vertical-align: middle;\n",
       "    }\n",
       "\n",
       "    .dataframe tbody tr th {\n",
       "        vertical-align: top;\n",
       "    }\n",
       "\n",
       "    .dataframe thead th {\n",
       "        text-align: right;\n",
       "    }\n",
       "</style>\n",
       "<table border=\"1\" class=\"dataframe\">\n",
       "  <thead>\n",
       "    <tr style=\"text-align: right;\">\n",
       "      <th></th>\n",
       "      <th>count</th>\n",
       "      <th>mean</th>\n",
       "      <th>std</th>\n",
       "      <th>min</th>\n",
       "      <th>25%</th>\n",
       "      <th>50%</th>\n",
       "      <th>75%</th>\n",
       "      <th>max</th>\n",
       "    </tr>\n",
       "  </thead>\n",
       "  <tbody>\n",
       "    <tr>\n",
       "      <th>Age</th>\n",
       "      <td>296.0</td>\n",
       "      <td>54.500000</td>\n",
       "      <td>9.035898</td>\n",
       "      <td>29.0</td>\n",
       "      <td>48.0</td>\n",
       "      <td>56.0</td>\n",
       "      <td>61.00</td>\n",
       "      <td>77.0</td>\n",
       "    </tr>\n",
       "    <tr>\n",
       "      <th>Sex</th>\n",
       "      <td>296.0</td>\n",
       "      <td>0.679054</td>\n",
       "      <td>0.467631</td>\n",
       "      <td>0.0</td>\n",
       "      <td>0.0</td>\n",
       "      <td>1.0</td>\n",
       "      <td>1.00</td>\n",
       "      <td>1.0</td>\n",
       "    </tr>\n",
       "    <tr>\n",
       "      <th>Chest_Pain</th>\n",
       "      <td>296.0</td>\n",
       "      <td>3.158784</td>\n",
       "      <td>0.966449</td>\n",
       "      <td>1.0</td>\n",
       "      <td>3.0</td>\n",
       "      <td>3.0</td>\n",
       "      <td>4.00</td>\n",
       "      <td>4.0</td>\n",
       "    </tr>\n",
       "    <tr>\n",
       "      <th>Resting_Blood_Pressure</th>\n",
       "      <td>296.0</td>\n",
       "      <td>131.750000</td>\n",
       "      <td>17.766232</td>\n",
       "      <td>94.0</td>\n",
       "      <td>120.0</td>\n",
       "      <td>130.0</td>\n",
       "      <td>140.00</td>\n",
       "      <td>200.0</td>\n",
       "    </tr>\n",
       "    <tr>\n",
       "      <th>Colestrol</th>\n",
       "      <td>296.0</td>\n",
       "      <td>246.280405</td>\n",
       "      <td>48.701920</td>\n",
       "      <td>126.0</td>\n",
       "      <td>211.0</td>\n",
       "      <td>242.5</td>\n",
       "      <td>275.25</td>\n",
       "      <td>417.0</td>\n",
       "    </tr>\n",
       "    <tr>\n",
       "      <th>Fasting_Blood_Sugar</th>\n",
       "      <td>296.0</td>\n",
       "      <td>0.145270</td>\n",
       "      <td>0.352970</td>\n",
       "      <td>0.0</td>\n",
       "      <td>0.0</td>\n",
       "      <td>0.0</td>\n",
       "      <td>0.00</td>\n",
       "      <td>1.0</td>\n",
       "    </tr>\n",
       "    <tr>\n",
       "      <th>Rest_ECG</th>\n",
       "      <td>296.0</td>\n",
       "      <td>0.993243</td>\n",
       "      <td>0.994879</td>\n",
       "      <td>0.0</td>\n",
       "      <td>0.0</td>\n",
       "      <td>1.0</td>\n",
       "      <td>2.00</td>\n",
       "      <td>2.0</td>\n",
       "    </tr>\n",
       "    <tr>\n",
       "      <th>MAX_Heart_Rate</th>\n",
       "      <td>296.0</td>\n",
       "      <td>149.564189</td>\n",
       "      <td>22.972406</td>\n",
       "      <td>71.0</td>\n",
       "      <td>133.0</td>\n",
       "      <td>152.5</td>\n",
       "      <td>166.00</td>\n",
       "      <td>202.0</td>\n",
       "    </tr>\n",
       "    <tr>\n",
       "      <th>Exercised_Induced_Angina</th>\n",
       "      <td>296.0</td>\n",
       "      <td>0.327703</td>\n",
       "      <td>0.470171</td>\n",
       "      <td>0.0</td>\n",
       "      <td>0.0</td>\n",
       "      <td>0.0</td>\n",
       "      <td>1.00</td>\n",
       "      <td>1.0</td>\n",
       "    </tr>\n",
       "    <tr>\n",
       "      <th>ST_Depression</th>\n",
       "      <td>296.0</td>\n",
       "      <td>1.053716</td>\n",
       "      <td>1.167666</td>\n",
       "      <td>0.0</td>\n",
       "      <td>0.0</td>\n",
       "      <td>0.8</td>\n",
       "      <td>1.65</td>\n",
       "      <td>6.2</td>\n",
       "    </tr>\n",
       "    <tr>\n",
       "      <th>Slope</th>\n",
       "      <td>296.0</td>\n",
       "      <td>1.601351</td>\n",
       "      <td>0.618800</td>\n",
       "      <td>1.0</td>\n",
       "      <td>1.0</td>\n",
       "      <td>2.0</td>\n",
       "      <td>2.00</td>\n",
       "      <td>3.0</td>\n",
       "    </tr>\n",
       "    <tr>\n",
       "      <th>Major_Vessels</th>\n",
       "      <td>296.0</td>\n",
       "      <td>0.679054</td>\n",
       "      <td>0.939726</td>\n",
       "      <td>0.0</td>\n",
       "      <td>0.0</td>\n",
       "      <td>0.0</td>\n",
       "      <td>1.00</td>\n",
       "      <td>3.0</td>\n",
       "    </tr>\n",
       "    <tr>\n",
       "      <th>Thalessemia</th>\n",
       "      <td>296.0</td>\n",
       "      <td>4.722973</td>\n",
       "      <td>1.937396</td>\n",
       "      <td>3.0</td>\n",
       "      <td>3.0</td>\n",
       "      <td>3.0</td>\n",
       "      <td>7.00</td>\n",
       "      <td>7.0</td>\n",
       "    </tr>\n",
       "    <tr>\n",
       "      <th>Target</th>\n",
       "      <td>296.0</td>\n",
       "      <td>0.949324</td>\n",
       "      <td>1.235410</td>\n",
       "      <td>0.0</td>\n",
       "      <td>0.0</td>\n",
       "      <td>0.0</td>\n",
       "      <td>2.00</td>\n",
       "      <td>4.0</td>\n",
       "    </tr>\n",
       "  </tbody>\n",
       "</table>\n",
       "</div>"
      ],
      "text/plain": [
       "                          count        mean        std    min    25%    50%  \\\n",
       "Age                       296.0   54.500000   9.035898   29.0   48.0   56.0   \n",
       "Sex                       296.0    0.679054   0.467631    0.0    0.0    1.0   \n",
       "Chest_Pain                296.0    3.158784   0.966449    1.0    3.0    3.0   \n",
       "Resting_Blood_Pressure    296.0  131.750000  17.766232   94.0  120.0  130.0   \n",
       "Colestrol                 296.0  246.280405  48.701920  126.0  211.0  242.5   \n",
       "Fasting_Blood_Sugar       296.0    0.145270   0.352970    0.0    0.0    0.0   \n",
       "Rest_ECG                  296.0    0.993243   0.994879    0.0    0.0    1.0   \n",
       "MAX_Heart_Rate            296.0  149.564189  22.972406   71.0  133.0  152.5   \n",
       "Exercised_Induced_Angina  296.0    0.327703   0.470171    0.0    0.0    0.0   \n",
       "ST_Depression             296.0    1.053716   1.167666    0.0    0.0    0.8   \n",
       "Slope                     296.0    1.601351   0.618800    1.0    1.0    2.0   \n",
       "Major_Vessels             296.0    0.679054   0.939726    0.0    0.0    0.0   \n",
       "Thalessemia               296.0    4.722973   1.937396    3.0    3.0    3.0   \n",
       "Target                    296.0    0.949324   1.235410    0.0    0.0    0.0   \n",
       "\n",
       "                             75%    max  \n",
       "Age                        61.00   77.0  \n",
       "Sex                         1.00    1.0  \n",
       "Chest_Pain                  4.00    4.0  \n",
       "Resting_Blood_Pressure    140.00  200.0  \n",
       "Colestrol                 275.25  417.0  \n",
       "Fasting_Blood_Sugar         0.00    1.0  \n",
       "Rest_ECG                    2.00    2.0  \n",
       "MAX_Heart_Rate            166.00  202.0  \n",
       "Exercised_Induced_Angina    1.00    1.0  \n",
       "ST_Depression               1.65    6.2  \n",
       "Slope                       2.00    3.0  \n",
       "Major_Vessels               1.00    3.0  \n",
       "Thalessemia                 7.00    7.0  \n",
       "Target                      2.00    4.0  "
      ]
     },
     "execution_count": 6,
     "metadata": {},
     "output_type": "execute_result"
    }
   ],
   "source": [
    "df.describe().transpose()"
   ]
  },
  {
   "cell_type": "code",
   "execution_count": 7,
   "metadata": {},
   "outputs": [
    {
     "data": {
      "text/plain": [
       "Age                           int64\n",
       "Sex                           int64\n",
       "Chest_Pain                    int64\n",
       "Resting_Blood_Pressure        int64\n",
       "Colestrol                     int64\n",
       "Fasting_Blood_Sugar           int64\n",
       "Rest_ECG                      int64\n",
       "MAX_Heart_Rate                int64\n",
       "Exercised_Induced_Angina      int64\n",
       "ST_Depression               float64\n",
       "Slope                         int64\n",
       "Major_Vessels                 int64\n",
       "Thalessemia                   int64\n",
       "Target                        int64\n",
       "dtype: object"
      ]
     },
     "execution_count": 7,
     "metadata": {},
     "output_type": "execute_result"
    }
   ],
   "source": [
    "df.dtypes"
   ]
  },
  {
   "cell_type": "code",
   "execution_count": 8,
   "metadata": {},
   "outputs": [
    {
     "name": "stdout",
     "output_type": "stream",
     "text": [
      "Empty DataFrame\n",
      "Columns: [Age, Sex, Chest_Pain, Resting_Blood_Pressure, Colestrol, Fasting_Blood_Sugar, Rest_ECG, MAX_Heart_Rate, Exercised_Induced_Angina, ST_Depression, Slope, Major_Vessels, Thalessemia, Target]\n",
      "Index: []\n"
     ]
    }
   ],
   "source": [
    "q_mark = df.loc[df['Thalessemia']== '?']\n",
    "print(q_mark)"
   ]
  },
  {
   "cell_type": "code",
   "execution_count": 9,
   "metadata": {},
   "outputs": [],
   "source": [
    "df.drop(df[df['Major_Vessels'] == '?'].index, inplace = True)"
   ]
  },
  {
   "cell_type": "code",
   "execution_count": 10,
   "metadata": {},
   "outputs": [],
   "source": [
    "df.drop(df[df['Thalessemia'] == '?'].index, inplace = True)"
   ]
  },
  {
   "cell_type": "code",
   "execution_count": 11,
   "metadata": {},
   "outputs": [],
   "source": [
    "df['Major_Vessels'] = df['Major_Vessels'].astype('int')"
   ]
  },
  {
   "cell_type": "code",
   "execution_count": 12,
   "metadata": {},
   "outputs": [],
   "source": [
    "df['Thalessemia'] = df['Thalessemia'].astype('int')"
   ]
  },
  {
   "cell_type": "markdown",
   "metadata": {},
   "source": [
    "# First we'll use KNN"
   ]
  },
  {
   "cell_type": "code",
   "execution_count": 13,
   "metadata": {},
   "outputs": [],
   "source": [
    "from sklearn.model_selection import train_test_split"
   ]
  },
  {
   "cell_type": "code",
   "execution_count": 14,
   "metadata": {},
   "outputs": [],
   "source": [
    "from sklearn import preprocessing\n",
    "from sklearn.neighbors import KNeighborsClassifier"
   ]
  },
  {
   "cell_type": "code",
   "execution_count": 15,
   "metadata": {},
   "outputs": [],
   "source": [
    "from sklearn.preprocessing import StandardScaler"
   ]
  },
  {
   "cell_type": "code",
   "execution_count": 16,
   "metadata": {},
   "outputs": [],
   "source": [
    "scaler = StandardScaler()"
   ]
  },
  {
   "cell_type": "code",
   "execution_count": 17,
   "metadata": {},
   "outputs": [
    {
     "data": {
      "text/plain": [
       "StandardScaler()"
      ]
     },
     "execution_count": 17,
     "metadata": {},
     "output_type": "execute_result"
    }
   ],
   "source": [
    "scaler.fit(df.drop('Target',axis=1))\n"
   ]
  },
  {
   "cell_type": "code",
   "execution_count": 18,
   "metadata": {},
   "outputs": [],
   "source": [
    "scaled_features = scaler.transform(df.drop('Target',axis=1))"
   ]
  },
  {
   "cell_type": "code",
   "execution_count": 19,
   "metadata": {},
   "outputs": [],
   "source": [
    "df_feat = pd.DataFrame(scaled_features,columns=df.columns[:-1])"
   ]
  },
  {
   "cell_type": "code",
   "execution_count": 20,
   "metadata": {},
   "outputs": [
    {
     "data": {
      "text/html": [
       "<div>\n",
       "<style scoped>\n",
       "    .dataframe tbody tr th:only-of-type {\n",
       "        vertical-align: middle;\n",
       "    }\n",
       "\n",
       "    .dataframe tbody tr th {\n",
       "        vertical-align: top;\n",
       "    }\n",
       "\n",
       "    .dataframe thead th {\n",
       "        text-align: right;\n",
       "    }\n",
       "</style>\n",
       "<table border=\"1\" class=\"dataframe\">\n",
       "  <thead>\n",
       "    <tr style=\"text-align: right;\">\n",
       "      <th></th>\n",
       "      <th>Age</th>\n",
       "      <th>Sex</th>\n",
       "      <th>Chest_Pain</th>\n",
       "      <th>Resting_Blood_Pressure</th>\n",
       "      <th>Colestrol</th>\n",
       "      <th>Fasting_Blood_Sugar</th>\n",
       "      <th>Rest_ECG</th>\n",
       "      <th>MAX_Heart_Rate</th>\n",
       "      <th>Exercised_Induced_Angina</th>\n",
       "      <th>ST_Depression</th>\n",
       "      <th>Slope</th>\n",
       "      <th>Major_Vessels</th>\n",
       "      <th>Thalessemia</th>\n",
       "    </tr>\n",
       "  </thead>\n",
       "  <tbody>\n",
       "    <tr>\n",
       "      <th>0</th>\n",
       "      <td>0.942285</td>\n",
       "      <td>0.687486</td>\n",
       "      <td>-2.237510</td>\n",
       "      <td>0.747060</td>\n",
       "      <td>-0.273149</td>\n",
       "      <td>2.425638</td>\n",
       "      <td>1.013652</td>\n",
       "      <td>0.019003</td>\n",
       "      <td>-0.698167</td>\n",
       "      <td>1.069137</td>\n",
       "      <td>2.264087</td>\n",
       "      <td>-0.723832</td>\n",
       "      <td>0.660262</td>\n",
       "    </tr>\n",
       "    <tr>\n",
       "      <th>1</th>\n",
       "      <td>1.385714</td>\n",
       "      <td>0.687486</td>\n",
       "      <td>0.871893</td>\n",
       "      <td>1.592788</td>\n",
       "      <td>0.816946</td>\n",
       "      <td>-0.412263</td>\n",
       "      <td>1.013652</td>\n",
       "      <td>-1.812373</td>\n",
       "      <td>1.432322</td>\n",
       "      <td>0.382849</td>\n",
       "      <td>0.645320</td>\n",
       "      <td>2.473994</td>\n",
       "      <td>-0.890830</td>\n",
       "    </tr>\n",
       "    <tr>\n",
       "      <th>2</th>\n",
       "      <td>1.385714</td>\n",
       "      <td>0.687486</td>\n",
       "      <td>0.871893</td>\n",
       "      <td>-0.662487</td>\n",
       "      <td>-0.355421</td>\n",
       "      <td>-0.412263</td>\n",
       "      <td>1.013652</td>\n",
       "      <td>-0.896685</td>\n",
       "      <td>1.432322</td>\n",
       "      <td>1.326494</td>\n",
       "      <td>0.645320</td>\n",
       "      <td>1.408052</td>\n",
       "      <td>1.177293</td>\n",
       "    </tr>\n",
       "    <tr>\n",
       "      <th>3</th>\n",
       "      <td>-1.939999</td>\n",
       "      <td>0.687486</td>\n",
       "      <td>-0.164574</td>\n",
       "      <td>-0.098668</td>\n",
       "      <td>0.076504</td>\n",
       "      <td>-0.412263</td>\n",
       "      <td>-1.000046</td>\n",
       "      <td>1.632359</td>\n",
       "      <td>-0.698167</td>\n",
       "      <td>2.098568</td>\n",
       "      <td>2.264087</td>\n",
       "      <td>-0.723832</td>\n",
       "      <td>-0.890830</td>\n",
       "    </tr>\n",
       "    <tr>\n",
       "      <th>4</th>\n",
       "      <td>-1.496571</td>\n",
       "      <td>-1.454575</td>\n",
       "      <td>-1.201042</td>\n",
       "      <td>-0.098668</td>\n",
       "      <td>-0.869617</td>\n",
       "      <td>-0.412263</td>\n",
       "      <td>1.013652</td>\n",
       "      <td>0.978296</td>\n",
       "      <td>-0.698167</td>\n",
       "      <td>0.297063</td>\n",
       "      <td>-0.973448</td>\n",
       "      <td>-0.723832</td>\n",
       "      <td>-0.890830</td>\n",
       "    </tr>\n",
       "  </tbody>\n",
       "</table>\n",
       "</div>"
      ],
      "text/plain": [
       "        Age       Sex  Chest_Pain  Resting_Blood_Pressure  Colestrol  \\\n",
       "0  0.942285  0.687486   -2.237510                0.747060  -0.273149   \n",
       "1  1.385714  0.687486    0.871893                1.592788   0.816946   \n",
       "2  1.385714  0.687486    0.871893               -0.662487  -0.355421   \n",
       "3 -1.939999  0.687486   -0.164574               -0.098668   0.076504   \n",
       "4 -1.496571 -1.454575   -1.201042               -0.098668  -0.869617   \n",
       "\n",
       "   Fasting_Blood_Sugar  Rest_ECG  MAX_Heart_Rate  Exercised_Induced_Angina  \\\n",
       "0             2.425638  1.013652        0.019003                 -0.698167   \n",
       "1            -0.412263  1.013652       -1.812373                  1.432322   \n",
       "2            -0.412263  1.013652       -0.896685                  1.432322   \n",
       "3            -0.412263 -1.000046        1.632359                 -0.698167   \n",
       "4            -0.412263  1.013652        0.978296                 -0.698167   \n",
       "\n",
       "   ST_Depression     Slope  Major_Vessels  Thalessemia  \n",
       "0       1.069137  2.264087      -0.723832     0.660262  \n",
       "1       0.382849  0.645320       2.473994    -0.890830  \n",
       "2       1.326494  0.645320       1.408052     1.177293  \n",
       "3       2.098568  2.264087      -0.723832    -0.890830  \n",
       "4       0.297063 -0.973448      -0.723832    -0.890830  "
      ]
     },
     "execution_count": 20,
     "metadata": {},
     "output_type": "execute_result"
    }
   ],
   "source": [
    "df_feat.head()"
   ]
  },
  {
   "cell_type": "code",
   "execution_count": 21,
   "metadata": {},
   "outputs": [],
   "source": [
    "X = df_feat\n",
    "y = df['Target']\n",
    "\n",
    "X_train, X_test, y_train, y_test = train_test_split(X, y, test_size=0.3, random_state=101)"
   ]
  },
  {
   "cell_type": "code",
   "execution_count": 22,
   "metadata": {},
   "outputs": [],
   "source": [
    "from sklearn.neighbors import KNeighborsClassifier"
   ]
  },
  {
   "cell_type": "code",
   "execution_count": 23,
   "metadata": {},
   "outputs": [],
   "source": [
    "error_rate = []\n",
    "\n",
    "for i in range(1,70):\n",
    "    knn = KNeighborsClassifier(n_neighbors=i)\n",
    "    knn.fit(X_train,y_train)\n",
    "    pred_i = knn.predict(X_test)\n",
    "    error_rate.append(np.mean(pred_i != y_test))"
   ]
  },
  {
   "cell_type": "code",
   "execution_count": 24,
   "metadata": {},
   "outputs": [
    {
     "data": {
      "text/plain": [
       "Text(0, 0.5, 'Error Rate')"
      ]
     },
     "execution_count": 24,
     "metadata": {},
     "output_type": "execute_result"
    },
    {
     "data": {
      "image/png": "[encoded data removed]",
      "text/plain": [
       "<Figure size 720x432 with 1 Axes>"
      ]
     },
     "metadata": {
      "needs_background": "light"
     },
     "output_type": "display_data"
    }
   ],
   "source": [
    "plt.figure(figsize=(10,6))\n",
    "plt.plot(range(1,70),error_rate,color='blue',marker='o')\n",
    "plt.title('Error Rate vs K Value')\n",
    "plt.xlabel('K')\n",
    "plt.ylabel('Error Rate')"
   ]
  },
  {
   "cell_type": "markdown",
   "metadata": {},
   "source": [
    "- We'll choose a k of 40"
   ]
  },
  {
   "cell_type": "code",
   "execution_count": 25,
   "metadata": {},
   "outputs": [],
   "source": [
    "from sklearn.metrics import classification_report,confusion_matrix"
   ]
  },
  {
   "cell_type": "code",
   "execution_count": 26,
   "metadata": {},
   "outputs": [],
   "source": [
    "from sklearn.metrics import multilabel_confusion_matrix"
   ]
  },
  {
   "cell_type": "code",
   "execution_count": 27,
   "metadata": {},
   "outputs": [],
   "source": [
    "from sklearn.metrics import balanced_accuracy_score"
   ]
  },
  {
   "cell_type": "code",
   "execution_count": 28,
   "metadata": {},
   "outputs": [
    {
     "name": "stdout",
     "output_type": "stream",
     "text": [
      "[[[28 14]\n",
      "  [ 3 44]]\n",
      "\n",
      " [[56 14]\n",
      "  [13  6]]\n",
      "\n",
      " [[72  2]\n",
      "  [12  3]]\n",
      "\n",
      " [[78  3]\n",
      "  [ 8  0]]\n",
      "\n",
      " [[86  3]\n",
      "  [ 0  0]]]\n",
      "\n",
      "\n",
      "              precision    recall  f1-score   support\n",
      "\n",
      "           0       0.76      0.94      0.84        47\n",
      "           1       0.30      0.32      0.31        19\n",
      "           2       0.60      0.20      0.30        15\n",
      "           3       0.00      0.00      0.00         8\n",
      "           4       0.00      0.00      0.00         0\n",
      "\n",
      "    accuracy                           0.60        89\n",
      "   macro avg       0.33      0.29      0.29        89\n",
      "weighted avg       0.57      0.60      0.56        89\n",
      "\n",
      "0.362989921612542\n"
     ]
    },
    {
     "name": "stderr",
     "output_type": "stream",
     "text": [
      "/Users/jonathjd/opt/anaconda3/lib/python3.8/site-packages/sklearn/metrics/_classification.py:1221: UndefinedMetricWarning: Recall and F-score are ill-defined and being set to 0.0 in labels with no true samples. Use `zero_division` parameter to control this behavior.\n",
      "  _warn_prf(average, modifier, msg_start, len(result))\n",
      "/Users/jonathjd/opt/anaconda3/lib/python3.8/site-packages/sklearn/metrics/_classification.py:1814: UserWarning: y_pred contains classes not in y_true\n",
      "  warnings.warn('y_pred contains classes not in y_true')\n"
     ]
    }
   ],
   "source": [
    "knn = KNeighborsClassifier(n_neighbors=8)\n",
    "knn.fit(X_train,y_train)\n",
    "pred = knn.predict(X_test)\n",
    "\n",
    "print(multilabel_confusion_matrix(y_test, pred))\n",
    "print('\\n')\n",
    "print(classification_report(y_test,pred))\n",
    "print(balanced_accuracy_score(y_test,pred))"
   ]
  },
  {
   "cell_type": "code",
   "execution_count": 29,
   "metadata": {},
   "outputs": [],
   "source": [
    "df.to_csv('heart_disease_cleaned.csv')"
   ]
  },
  {
   "cell_type": "code",
   "execution_count": null,
   "metadata": {},
   "outputs": [],
   "source": []
  }
 ],
 "metadata": {
  "kernelspec": {
   "display_name": "Python 3",
   "language": "python",
   "name": "python3"
  },
  "language_info": {
   "codemirror_mode": {
    "name": "ipython",
    "version": 3
   },
   "file_extension": ".py",
   "mimetype": "text/x-python",
   "name": "python",
   "nbconvert_exporter": "python",
   "pygments_lexer": "ipython3",
   "version": "3.8.5"
  }
 },
 "nbformat": 4,
 "nbformat_minor": 4
}
